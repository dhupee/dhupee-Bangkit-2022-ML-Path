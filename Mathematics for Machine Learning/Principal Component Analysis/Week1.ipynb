{
 "cells": [
  {
   "cell_type": "code",
   "execution_count": 2,
   "metadata": {},
   "outputs": [],
   "source": [
    "import numpy as np\n",
    "import pandas as pd\n",
    "import matplotlib.pyplot as plt"
   ]
  },
  {
   "cell_type": "code",
   "execution_count": 3,
   "metadata": {},
   "outputs": [
    {
     "name": "stdout",
     "output_type": "stream",
     "text": [
      "[[1 4 7]\n",
      " [2 5 8]\n",
      " [3 6 9]] \n",
      "\n",
      "[2. 5. 8.] \n",
      "\n"
     ]
    }
   ],
   "source": [
    "# 3x3 matrix\n",
    "A = np.array([[1, 4, 7], [2, 5, 8], [3, 6, 9]])\n",
    "print(A, '\\n')\n",
    "\n",
    "# compute average of each column\n",
    "avg = np.mean(A, axis=0)\n",
    "print(avg, '\\n')"
   ]
  },
  {
   "cell_type": "code",
   "execution_count": 4,
   "metadata": {},
   "outputs": [
    {
     "name": "stdout",
     "output_type": "stream",
     "text": [
      "[[1 2 3]\n",
      " [3 4 5]\n",
      " [5 3 1]] \n",
      "\n",
      "[[ 2  4  6]\n",
      " [ 6  8 10]\n",
      " [10  6  2]] \n",
      "\n",
      "[6. 6. 6.] \n",
      "\n"
     ]
    }
   ],
   "source": [
    "# 3x3 matrix\n",
    "A = np.array([[1, 2, 3], [3, 4, 5], [5, 3, 1]])\n",
    "print(A, '\\n')\n",
    "\n",
    "# multiply matrix by 2\n",
    "A = A * 2\n",
    "print(A, '\\n')\n",
    "\n",
    "# compute average\n",
    "avg = np.mean(A, axis=0)\n",
    "print(avg, '\\n')"
   ]
  },
  {
   "cell_type": "code",
   "execution_count": 5,
   "metadata": {},
   "outputs": [
    {
     "name": "stdout",
     "output_type": "stream",
     "text": [
      "[[1 2 3]\n",
      " [3 4 5]\n",
      " [5 3 1]] \n",
      "\n",
      "[[2 4 6]\n",
      " [4 6 8]\n",
      " [6 5 4]] \n",
      "\n",
      "[4. 5. 6.] \n",
      "\n"
     ]
    }
   ],
   "source": [
    "# 3x3 matrix\n",
    "A = np.array([[1, 2, 3], [3, 4, 5], [5, 3, 1]])\n",
    "print(A, '\\n')\n",
    "\n",
    "# add [1, 2, 3] to each sample\n",
    "A = A + np.array([1, 2, 3])\n",
    "print(A, '\\n')\n",
    "\n",
    "# average\n",
    "avg = np.mean(A, axis=0)\n",
    "print(avg, '\\n')"
   ]
  },
  {
   "cell_type": "code",
   "execution_count": 6,
   "metadata": {},
   "outputs": [],
   "source": [
    "def reshape(x):\n",
    "  \"\"\"return x_reshaped as a flattened vector of the multi-dimensional array x\"\"\"\n",
    "  x_reshaped = x.reshape(x.shape[0] * x.shape[1])\n",
    "  return x_reshaped"
   ]
  },
  {
   "cell_type": "code",
   "execution_count": 7,
   "metadata": {},
   "outputs": [
    {
     "name": "stdout",
     "output_type": "stream",
     "text": [
      "[[ 0.5 -0.5]\n",
      " [-0.5  0.5]] \n",
      "\n"
     ]
    }
   ],
   "source": [
    "# matrix\n",
    "d = np.array([\n",
    "    [1, 2],\n",
    "    [5, 4]\n",
    "])\n",
    "\n",
    "# covariance matrix of d\n",
    "cov = np.cov(d)\n",
    "print(cov, '\\n')"
   ]
  },
  {
   "cell_type": "markdown",
   "metadata": {},
   "source": [
    "---"
   ]
  },
  {
   "cell_type": "code",
   "execution_count": 8,
   "metadata": {},
   "outputs": [
    {
     "name": "stdout",
     "output_type": "stream",
     "text": [
      "0.5 \n",
      "\n",
      "0.7071067811865476 \n",
      "\n",
      "[2, 3, 4, 3] \n",
      "\n",
      "0.5 \n",
      "\n"
     ]
    }
   ],
   "source": [
    "# dataset list\n",
    "dataset = [1, 2, 3, 2]\n",
    "\n",
    "# variance\n",
    "var = np.var(dataset)\n",
    "print(var, '\\n')\n",
    "\n",
    "# standard deviation\n",
    "std = np.std(dataset)\n",
    "print(std, '\\n')\n",
    "\n",
    "# add each element of dataset with 1\n",
    "for i in range(len(dataset)):\n",
    "  dataset[i] = dataset[i] + 1\n",
    "print(dataset, '\\n')\n",
    "\n",
    "# new variance\n",
    "var = np.var(dataset)\n",
    "print(var, '\\n')"
   ]
  },
  {
   "cell_type": "code",
   "execution_count": 9,
   "metadata": {},
   "outputs": [
    {
     "name": "stdout",
     "output_type": "stream",
     "text": [
      "[2, 4, 6, 4] \n",
      "\n",
      "2.0 \n",
      "\n"
     ]
    }
   ],
   "source": [
    "# dataset list\n",
    "dataset = [1, 2, 3, 2]\n",
    "\n",
    "# multiply each element of dataset by 2\n",
    "for i in range(len(dataset)):\n",
    "    dataset[i] = dataset[i] * 2\n",
    "print(dataset, '\\n')\n",
    "\n",
    "# new variance\n",
    "var = np.var(dataset)\n",
    "print(var, '\\n')"
   ]
  },
  {
   "cell_type": "markdown",
   "metadata": {},
   "source": [
    "---"
   ]
  },
  {
   "cell_type": "code",
   "execution_count": 10,
   "metadata": {},
   "outputs": [
    {
     "name": "stdout",
     "output_type": "stream",
     "text": [
      "[[1, 2], [5, 4]] \n",
      "\n",
      "[[ 0.5 -0.5]\n",
      " [-0.5  0.5]] \n",
      "\n"
     ]
    }
   ],
   "source": [
    "# 2x2 matrix dataset\n",
    "dataset = [[1, 2], [5, 4]]\n",
    "print(dataset, '\\n')\n",
    "\n",
    "# covariance matrix\n",
    "cov = np.cov(dataset)\n",
    "print(cov, '\\n')"
   ]
  },
  {
   "cell_type": "code",
   "execution_count": 11,
   "metadata": {},
   "outputs": [
    {
     "name": "stdout",
     "output_type": "stream",
     "text": [
      "[[3 2]\n",
      " [2 4]] \n",
      "\n",
      "[[6 4]\n",
      " [4 8]] \n",
      "\n",
      "[[ 2. -4.]\n",
      " [-4.  8.]] \n",
      "\n"
     ]
    }
   ],
   "source": [
    "# 2x2 matrix dataset\n",
    "dataset = np.array([\n",
    "    [3, 2],\n",
    "    [2, 4]\n",
    "    ])\n",
    "print(dataset, '\\n')\n",
    "\n",
    "# multiply each element of dataset by 2\n",
    "dataset = dataset * 2\n",
    "print(dataset, '\\n')\n",
    "\n",
    "# covariance matrix\n",
    "cov = np.cov(dataset)\n",
    "print(cov, '\\n')"
   ]
  },
  {
   "cell_type": "code",
   "execution_count": null,
   "metadata": {},
   "outputs": [],
   "source": []
  }
 ],
 "metadata": {
  "interpreter": {
   "hash": "153cfa34b2fd7817ab0a10fa400c7428ae4a59674a5d86ff9506fd9606302b0e"
  },
  "kernelspec": {
   "display_name": "Python 3.8.12 ('DH-env')",
   "language": "python",
   "name": "python3"
  },
  "language_info": {
   "codemirror_mode": {
    "name": "ipython",
    "version": 3
   },
   "file_extension": ".py",
   "mimetype": "text/x-python",
   "name": "python",
   "nbconvert_exporter": "python",
   "pygments_lexer": "ipython3",
   "version": "3.8.12"
  },
  "orig_nbformat": 4
 },
 "nbformat": 4,
 "nbformat_minor": 2
}
