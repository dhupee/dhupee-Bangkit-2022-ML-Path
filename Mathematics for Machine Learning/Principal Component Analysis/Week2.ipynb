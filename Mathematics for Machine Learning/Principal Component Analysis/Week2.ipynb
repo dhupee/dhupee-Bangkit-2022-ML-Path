{
 "cells": [
  {
   "cell_type": "code",
   "execution_count": 1,
   "metadata": {},
   "outputs": [],
   "source": [
    "import numpy as np\n",
    "import matplotlib.pyplot as plt"
   ]
  },
  {
   "cell_type": "code",
   "execution_count": 2,
   "metadata": {},
   "outputs": [
    {
     "name": "stdout",
     "output_type": "stream",
     "text": [
      "1.4142135623730951\n"
     ]
    }
   ],
   "source": [
    "# 1x2 matrix\n",
    "x = np.array([[1], [2]])\n",
    "y = np.array([[2], [1]])\n",
    "\n",
    "# distance between x and y\n",
    "print(np.linalg.norm(x - y))"
   ]
  },
  {
   "cell_type": "code",
   "execution_count": 17,
   "metadata": {},
   "outputs": [
    {
     "name": "stdout",
     "output_type": "stream",
     "text": [
      "[ 1 -1  3]\n",
      "11\n"
     ]
    }
   ],
   "source": [
    "# 1x3 matrix\n",
    "x = np.array([1, -1, 3])\n",
    "\n",
    "print(x)\n",
    "\n",
    "# dot pruduct of x\n",
    "print(np.dot(x, x))"
   ]
  },
  {
   "cell_type": "code",
   "execution_count": 13,
   "metadata": {},
   "outputs": [
    {
     "name": "stdout",
     "output_type": "stream",
     "text": [
      "5.385164807134504 \n",
      "\n",
      "1.7126933813990606\n"
     ]
    }
   ],
   "source": [
    "# 2x1 matrix\n",
    "x = np.array([3, 4])\n",
    "y = np.array([1, -1])\n",
    "\n",
    "# distance between x and y\n",
    "print(np.linalg.norm(x - y), '\\n')\n",
    "\n",
    "# angle between x and y\n",
    "print(np.arccos(np.dot(x, y) / (np.linalg.norm(x) * np.linalg.norm(y))))"
   ]
  },
  {
   "cell_type": "code",
   "execution_count": 18,
   "metadata": {},
   "outputs": [
    {
     "name": "stdout",
     "output_type": "stream",
     "text": [
      "nan\n"
     ]
    },
    {
     "name": "stderr",
     "output_type": "stream",
     "text": [
      "C:\\Users\\ARYAWI~1\\AppData\\Local\\Temp/ipykernel_10220/1182827172.py:6: RuntimeWarning: invalid value encountered in arccos\n",
      "  print(np.arccos(np.dot(x, y) / (np.linalg.norm(x) * np.linalg.norm(y - x))))\n"
     ]
    }
   ],
   "source": [
    "# 1x3 matrix\n",
    "x = np.array([1, 2, 3])\n",
    "y = np.array([-1, 0, 8])\n",
    "\n",
    "# angle between x and (x-y)\n",
    "print(np.arccos(np.dot(x, y) / (np.linalg.norm(x) * np.linalg.norm(y - x))))"
   ]
  },
  {
   "cell_type": "code",
   "execution_count": null,
   "metadata": {},
   "outputs": [],
   "source": [
    "'''\n",
    "def length(x):\n",
    "    return np.linalg.norm(x)\n",
    "'''"
   ]
  },
  {
   "cell_type": "markdown",
   "metadata": {},
   "source": [
    "---"
   ]
  },
  {
   "cell_type": "code",
   "execution_count": 36,
   "metadata": {},
   "outputs": [
    {
     "name": "stdout",
     "output_type": "stream",
     "text": [
      "5.0990195135927845\n"
     ]
    }
   ],
   "source": [
    "print(np.sqrt(26))"
   ]
  },
  {
   "cell_type": "code",
   "execution_count": 48,
   "metadata": {},
   "outputs": [
    {
     "name": "stdout",
     "output_type": "stream",
     "text": [
      "5.0990195135927845\n"
     ]
    }
   ],
   "source": [
    "# matrix\n",
    "x = np.array([1, -1, 3]) # 1x3 matrix\n",
    "\n",
    "# inner product of ab, 3x3 matrix\n",
    "ab = np.array([\n",
    "    [2, 1, 0],\n",
    "    [1, 2, -1],\n",
    "    [0, -1, 2]\n",
    "])\n",
    "\n",
    "# compute the length of x using inner product\n",
    "print(np.sqrt(np.dot(x, np.dot(ab, x))))"
   ]
  },
  {
   "cell_type": "code",
   "execution_count": 58,
   "metadata": {},
   "outputs": [
    {
     "name": "stdout",
     "output_type": "stream",
     "text": [
      "5.0\n"
     ]
    }
   ],
   "source": [
    "ab = np.array([\n",
    "    [2, 1, 0],\n",
    "    [1, 2, -1],\n",
    "    [0, -1, 2]\n",
    "])\n",
    "\n",
    "x = np.array([1/2, -1, -1/2])\n",
    "\n",
    "y = np.array([0, 1 , 0])\n",
    "\n",
    "# compute the squared length of x and y using inner product ab\n",
    "print(np.dot(x-y, np.dot(ab, x-y))) # squared"
   ]
  },
  {
   "cell_type": "code",
   "execution_count": 53,
   "metadata": {},
   "outputs": [
    {
     "name": "stdout",
     "output_type": "stream",
     "text": [
      "2.449489742783178\n",
      "2.449489742783178\n"
     ]
    }
   ],
   "source": [
    "# matrix\n",
    "x = np.array([-1, 1]) # 1x2 matrix\n",
    "\n",
    "# inner product of ab, 2 matrix\n",
    "ab = np.array([\n",
    "    [5, -1],\n",
    "    [-1, 5]\n",
    "])\n",
    "ab = (1/2) * ab\n",
    "\n",
    "# compute the length of x using inner product\n",
    "print(np.sqrt(np.dot(x, np.dot(ab, x))))"
   ]
  },
  {
   "cell_type": "code",
   "execution_count": 60,
   "metadata": {},
   "outputs": [
    {
     "name": "stdout",
     "output_type": "stream",
     "text": [
      "6.48074069840786\n"
     ]
    }
   ],
   "source": [
    "# matrix x and y, 1x3\n",
    "x = np.array([4, 2, 1])\n",
    "y = np.array([0, 1, 0])\n",
    "\n",
    "# inner product of ab, 3x3 matrix\n",
    "ab = np.array([\n",
    "    [2, 1, 0],\n",
    "    [1, 2, -1],\n",
    "    [0, -1, 2]\n",
    "])\n",
    "\n",
    "# compute the non squared length of x and y using inner product ab\n",
    "print(np.sqrt(np.dot(x-y, np.dot(ab, x-y)))) # not squared"
   ]
  },
  {
   "cell_type": "markdown",
   "metadata": {},
   "source": [
    "---\n",
    "## Angles between vectors using a non-standard inner product"
   ]
  },
  {
   "cell_type": "code",
   "execution_count": 122,
   "metadata": {},
   "outputs": [
    {
     "name": "stdout",
     "output_type": "stream",
     "text": [
      "0.0\n",
      "90.0\n"
     ]
    }
   ],
   "source": [
    "# matrix x and y, 1x2\n",
    "x = np.array([1, 1])\n",
    "y = np.array([-1, 1])\n",
    "\n",
    "# inner product xy, 2x2 matrix\n",
    "xy = np.array([\n",
    "    [2, -1],\n",
    "    [-1, 4]\n",
    "])\n",
    "\n",
    "# compute the angle between x and y using inner product xy, expected result is pi/2\n",
    "cos_w = np.dot(x, y) / (np.linalg.norm(x) * np.linalg.norm(y))\n",
    "print(cos_w)\n",
    "\n",
    "# convert cos_w to degree\n",
    "print(np.arccos(cos_w) * 180 / np.pi)"
   ]
  },
  {
   "cell_type": "code",
   "execution_count": 99,
   "metadata": {},
   "outputs": [
    {
     "name": "stdout",
     "output_type": "stream",
     "text": [
      "[1.34528292        nan]\n"
     ]
    },
    {
     "name": "stderr",
     "output_type": "stream",
     "text": [
      "C:\\Users\\ARYAWI~1\\AppData\\Local\\Temp/ipykernel_10220/2471894807.py:9: RuntimeWarning: invalid value encountered in arccos\n",
      "  print(np.arccos(np.dot(x, xy) / (np.linalg.norm(x) * np.linalg.norm(x-y))))\n"
     ]
    }
   ],
   "source": [
    "x = np.array([0, -1])\n",
    "y = np.array([1, 1])\n",
    "\n",
    "xy = np.array([\n",
    "    [1, -1/2],\n",
    "    [-1/2, 5]\n",
    "])\n",
    "\n",
    "print(np.arccos(np.dot(x, xy) / (np.linalg.norm(x) * np.linalg.norm(x-y))))"
   ]
  },
  {
   "cell_type": "code",
   "execution_count": 133,
   "metadata": {},
   "outputs": [
    {
     "name": "stdout",
     "output_type": "stream",
     "text": [
      "-3.181980515339464 \n",
      "\n",
      "nan\n"
     ]
    },
    {
     "name": "stderr",
     "output_type": "stream",
     "text": [
      "C:\\Users\\ARYAWI~1\\AppData\\Local\\Temp/ipykernel_10220/2958707033.py:15: RuntimeWarning: invalid value encountered in arccos\n",
      "  print(np.arccos(cos_w) * 180 / np.pi)\n"
     ]
    }
   ],
   "source": [
    "# matrix x and y, 1x2\n",
    "x = np.array([0, -1])\n",
    "y = np.array([1, 1])\n",
    "\n",
    "# compute the angle between x and y\n",
    "cos_w = np.dot(x, y) / (np.linalg.norm(x) * np.linalg.norm(y))\n",
    "print(cos_w, '\\n')\n",
    "\n",
    "# convert cos_w to degree\n",
    "print(np.arccos(cos_w) * 180 / np.pi)"
   ]
  },
  {
   "cell_type": "code",
   "execution_count": 147,
   "metadata": {},
   "outputs": [
    {
     "name": "stdout",
     "output_type": "stream",
     "text": [
      "-0.9 \n",
      "\n",
      "154.15806723683286 degrees\n"
     ]
    }
   ],
   "source": [
    "# matrix x and y, 1x2\n",
    "x = np.array([0, -1])\n",
    "y = np.array([1, 1])\n",
    "\n",
    "ab = np.array([\n",
    "    [1, -1/2],\n",
    "    [-1/2, 5]\n",
    "])\n",
    "\n",
    "nom = np.dot(x, np.dot(ab, y))\n",
    "denom = np.sqrt (np.dot(x, np.dot(ab, x)) * np.dot(y, np.dot(ab, y)))\n",
    "\n",
    "cos_w = nom / denom\n",
    "print(cos_w, '\\n')\n",
    "\n",
    "# convert cos_w to degree, format example: 180.0 degrees\n",
    "print(np.arccos(cos_w) * 180 / np.pi, 'degrees')"
   ]
  },
  {
   "cell_type": "markdown",
   "metadata": {},
   "source": [
    "---\n",
    "## working def"
   ]
  },
  {
   "cell_type": "code",
   "execution_count": null,
   "metadata": {},
   "outputs": [],
   "source": [
    "def length_xy_with_inner(x, y, ab, squared=True):\n",
    "    '''\n",
    "    compute the non squared length of x and y using inner product ab\n",
    "\n",
    "    parameter:\n",
    "        x: 1x3 matrix for 3D vector, 1x2 matrix for 2D vector\n",
    "        y: 1x3 matrix for 3D vector, 1x2 matrix for 2D vector\n",
    "        ab: 3x3 matrix for 3D vector, 2x2 matrix for 2D vector\n",
    "        squared: True or False, True for squared length, False for non squared length\n",
    "\n",
    "    return:\n",
    "        length of x and y squared if squared is True, otherwise not squared\n",
    "    '''\n",
    "    # if ab is not exist, ab = transpose(x) * y\n",
    "    if ab is None:\n",
    "        ab = np.transpose(x) * y\n",
    "\n",
    "    # compute the length of x using inner product\n",
    "    if squared:\n",
    "        return np.dot(x-y, np.dot(ab, x-y))\n",
    "    else:\n",
    "        return np.sqrt(np.dot(x-y, np.dot(ab, x-y)))\n",
    "\n",
    "\n",
    "def angle_xy_with_inner(x, y, ab):\n",
    "    '''\n",
    "    compute the angle between x and y using inner product ab\n",
    "\n",
    "    parameter:\n",
    "        x: 1x3 matrix for 3D vector, 1x2 matrix for 2D vector\n",
    "        y: 1x3 matrix for 3D vector, 1x2 matrix for 2D vector\n",
    "        ab: 3x3 matrix for 3D vector, 2x2 matrix for 2D vector\n",
    "\n",
    "    return:\n",
    "        angle between x and y\n",
    "    '''\n",
    "    # if ab is not exist, ab = transpose(x) * y\n",
    "    if ab is None:\n",
    "        ab = np.transpose(x) * y\n",
    "\n",
    "    # compute the angle of x and y using inner product\n",
    "    nom = np.dot(x, np.dot(ab, y))\n",
    "    denom = np.sqrt (np.dot(x, np.dot(ab, x)) * np.dot(y, np.dot(ab, y)))\n",
    "\n",
    "    return np.arccos(nom / denom) # in radians"
   ]
  }
 ],
 "metadata": {
  "interpreter": {
   "hash": "153cfa34b2fd7817ab0a10fa400c7428ae4a59674a5d86ff9506fd9606302b0e"
  },
  "kernelspec": {
   "display_name": "Python 3.8.12 ('DH-env')",
   "language": "python",
   "name": "python3"
  },
  "language_info": {
   "codemirror_mode": {
    "name": "ipython",
    "version": 3
   },
   "file_extension": ".py",
   "mimetype": "text/x-python",
   "name": "python",
   "nbconvert_exporter": "python",
   "pygments_lexer": "ipython3",
   "version": "3.8.12"
  },
  "orig_nbformat": 4
 },
 "nbformat": 4,
 "nbformat_minor": 2
}
