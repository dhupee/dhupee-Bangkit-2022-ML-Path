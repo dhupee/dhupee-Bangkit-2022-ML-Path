{
 "cells": [
  {
   "cell_type": "code",
   "execution_count": 1,
   "metadata": {},
   "outputs": [],
   "source": [
    "import numpy as np\n",
    "from sympy import *\n",
    "import matplotlib.pyplot as plt"
   ]
  },
  {
   "cell_type": "markdown",
   "metadata": {},
   "source": [
    "---\n",
    "## Chain rule practice"
   ]
  },
  {
   "cell_type": "code",
   "execution_count": 2,
   "metadata": {},
   "outputs": [
    {
     "data": {
      "text/latex": [
       "$\\displaystyle \\left(2 x e^{x^{2}} + 2 x\\right) \\cos{\\left(x^{2} + e^{x^{2}} \\right)} + \\frac{2 x e^{x^{2}} + 2 x}{x^{2} + e^{x^{2}}}$"
      ],
      "text/plain": [
       "(2*x*exp(x**2) + 2*x)*cos(x**2 + exp(x**2)) + (2*x*exp(x**2) + 2*x)/(x**2 + exp(x**2))"
      ]
     },
     "execution_count": 2,
     "metadata": {},
     "output_type": "execute_result"
    }
   ],
   "source": [
    "# symbols\n",
    "x = Symbol('x')\n",
    "\n",
    "# functions\n",
    "a = x**2\n",
    "b = exp(a)\n",
    "c = a+b\n",
    "d = log(c)\n",
    "e = sin(c)\n",
    "f = d+e\n",
    "\n",
    "# df/dx using chain rule\n",
    "df_dx = diff(f, x)\n",
    "df_dx"
   ]
  },
  {
   "cell_type": "code",
   "execution_count": 3,
   "metadata": {},
   "outputs": [
    {
     "data": {
      "text/latex": [
       "$\\displaystyle - 6 x^{5} \\sin{\\left(x^{6} \\right)}$"
      ],
      "text/plain": [
       "-6*x**5*sin(x**6)"
      ]
     },
     "execution_count": 3,
     "metadata": {},
     "output_type": "execute_result"
    }
   ],
   "source": [
    "# symbols\n",
    "x = Symbol('x')\n",
    "\n",
    "# functions\n",
    "t = x**3\n",
    "f = cos(t**2)\n",
    "\n",
    "# df/dx using chain rule\n",
    "df_dx = diff(f, x)\n",
    "df_dx"
   ]
  },
  {
   "cell_type": "code",
   "execution_count": 5,
   "metadata": {},
   "outputs": [
    {
     "name": "stdout",
     "output_type": "stream",
     "text": [
      "[[1 2]\n",
      " [5 4]] \n",
      "\n",
      "5\n"
     ]
    }
   ],
   "source": [
    "# 2x2 matrix\n",
    "matrix = np.array([\n",
    "    [1, 2],\n",
    "    [5, 4]\n",
    "])\n",
    "\n",
    "print(matrix, '\\n')\n",
    "\n",
    "# find the trace\n",
    "print(np.trace(matrix))\n"
   ]
  },
  {
   "cell_type": "code",
   "execution_count": null,
   "metadata": {},
   "outputs": [],
   "source": []
  }
 ],
 "metadata": {
  "interpreter": {
   "hash": "153cfa34b2fd7817ab0a10fa400c7428ae4a59674a5d86ff9506fd9606302b0e"
  },
  "kernelspec": {
   "display_name": "Python 3.8.12 ('DH-env')",
   "language": "python",
   "name": "python3"
  },
  "language_info": {
   "codemirror_mode": {
    "name": "ipython",
    "version": 3
   },
   "file_extension": ".py",
   "mimetype": "text/x-python",
   "name": "python",
   "nbconvert_exporter": "python",
   "pygments_lexer": "ipython3",
   "version": "3.8.12"
  },
  "orig_nbformat": 4
 },
 "nbformat": 4,
 "nbformat_minor": 2
}
