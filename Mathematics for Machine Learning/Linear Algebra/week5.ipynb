{
 "cells": [
  {
   "cell_type": "code",
   "execution_count": 8,
   "metadata": {},
   "outputs": [],
   "source": [
    "import numpy as np\n",
    "import matplotlib.pyplot as plt\n",
    "from fractions import Fraction"
   ]
  },
  {
   "cell_type": "code",
   "execution_count": 27,
   "metadata": {},
   "outputs": [],
   "source": [
    "# characteristic polynomial of a 2x2 square matrix is x^2 -(a+d)x + (ad-bc) = 0\n",
    "def charpoly(matrix):\n",
    "    a = matrix[0,0]\n",
    "    b = matrix[0,1]\n",
    "    c = matrix[1,0]\n",
    "    d = matrix[1,1]\n",
    "    char_poly = np.poly1d([1, -(a+d), (a*d-b*c)])\n",
    "    return char_poly\n",
    "\n",
    "# get abc value from polynomial\n",
    "def poly_abc(poly):\n",
    "    a = poly[2]\n",
    "    b = poly[1]\n",
    "    c = poly[0]\n",
    "    return a, b, c\n",
    "\n",
    "# find x1 and x2 from the characteristic polynomial\n",
    "def quadratic(a, b ,c):\n",
    "    if a == 0:\n",
    "        return (-c/b)\n",
    "    else:\n",
    "        x1 = (-b + np.sqrt(b**2 - 4*a*c))/(2*a)\n",
    "        x2 = (-b - np.sqrt(b**2 - 4*a*c))/(2*a)\n",
    "        return x1, x2"
   ]
  },
  {
   "cell_type": "code",
   "execution_count": 31,
   "metadata": {},
   "outputs": [
    {
     "name": "stdout",
     "output_type": "stream",
     "text": [
      "   2\n",
      "1 x - 3 x + 2 \n",
      "\n",
      "2.0 1.0\n"
     ]
    }
   ],
   "source": [
    "A = np.array([\n",
    "    [1,0],\n",
    "    [0,2]])\n",
    "\n",
    "B = charpoly(A)\n",
    "print(B, '\\n')\n",
    "\n",
    "b1, b2 = quadratic(poly_abc(B)[0], poly_abc(B)[1], poly_abc(B)[2])\n",
    "print(b1, b2)"
   ]
  },
  {
   "cell_type": "code",
   "execution_count": 18,
   "metadata": {},
   "outputs": [
    {
     "name": "stdout",
     "output_type": "stream",
     "text": [
      "[1. 2.] \n",
      "\n",
      "[[1. 0.]\n",
      " [0. 1.]] \n",
      "\n"
     ]
    }
   ],
   "source": [
    "C = np.array([\n",
    "    [1,0],\n",
    "    [0,2]])\n",
    "\n",
    "# eigenvector and eigenvalue of C\n",
    "eigval, eigvec = np.linalg.eig(C)\n",
    "print(eigval, '\\n')\n",
    "print(eigvec, '\\n')"
   ]
  },
  {
   "cell_type": "code",
   "execution_count": 20,
   "metadata": {},
   "outputs": [
    {
     "name": "stdout",
     "output_type": "stream",
     "text": [
      "   2\n",
      "1 x - 8 x + 15\n",
      "(5.0, 3.0)\n"
     ]
    }
   ],
   "source": [
    "D = np.array([\n",
    "    [3, 4],\n",
    "    [0, 5]])\n",
    "\n",
    "E = charpoly(D)\n",
    "print(E)\n",
    "\n",
    "print(quadratic(1, -8, 15))"
   ]
  },
  {
   "cell_type": "code",
   "execution_count": 4,
   "metadata": {},
   "outputs": [
    {
     "name": "stdout",
     "output_type": "stream",
     "text": [
      "[[1.         0.89442719]\n",
      " [0.         0.4472136 ]]\n",
      "[3. 5.]\n"
     ]
    }
   ],
   "source": [
    "F = np.array([\n",
    "    [3, 4],\n",
    "    [0, 5]])\n",
    "\n",
    "eig_vec_F, eig_val_F = np.linalg.eig(F)\n",
    "print(eig_val_F)\n",
    "print(eig_vec_F)"
   ]
  },
  {
   "cell_type": "code",
   "execution_count": 25,
   "metadata": {},
   "outputs": [
    {
     "name": "stdout",
     "output_type": "stream",
     "text": [
      "   2\n",
      "1 x - 5 x + 4\n",
      "(4.0, 1.0)\n"
     ]
    }
   ],
   "source": [
    "G = np.array([\n",
    "    [1, 0],\n",
    "    [-1, 4]])\n",
    "\n",
    "H = charpoly(G)\n",
    "print(H)\n",
    "\n",
    "print(quadratic(1, -5, 4))"
   ]
  },
  {
   "cell_type": "markdown",
   "metadata": {},
   "source": [
    "---"
   ]
  },
  {
   "cell_type": "code",
   "execution_count": 35,
   "metadata": {},
   "outputs": [
    {
     "name": "stdout",
     "output_type": "stream",
     "text": [
      "[11.88819442 -5.88819442]\n",
      "[[ 0.99380775 -0.05581564]\n",
      " [-0.11111325  0.99844109]]\n"
     ]
    }
   ],
   "source": [
    "T = np.array([\n",
    "    [6, -1],\n",
    "    [2, -3]\n",
    "    ])\n",
    "\n",
    "C = np.array([\n",
    "    [1, 1],\n",
    "    [1, 2]\n",
    "    ])\n",
    "\n",
    "# matrix D = C^-1 * TC\n",
    "D = np.linalg.inv(C) * T * C\n",
    "\n",
    "# diagonalize matrix D\n",
    "eig_val_D, eig_vec_D = np.linalg.eig(D)\n",
    "print(eig_val_D)\n",
    "print(eig_vec_D)"
   ]
  },
  {
   "cell_type": "code",
   "execution_count": 9,
   "metadata": {},
   "outputs": [
    {
     "name": "stdout",
     "output_type": "stream",
     "text": [
      "[ 1. -4. -3.] \n",
      "\n",
      "[[-0.6882472  -0.66666667  0.40824829]\n",
      " [-0.6882472  -0.66666667 -0.40824829]\n",
      " [-0.22941573  0.33333333 -0.81649658]] \n",
      "\n"
     ]
    },
    {
     "ename": "TypeError",
     "evalue": "object of type 'numpy.float64' has no len()",
     "output_type": "error",
     "traceback": [
      "\u001b[1;31m---------------------------------------------------------------------------\u001b[0m",
      "\u001b[1;31mTypeError\u001b[0m                                 Traceback (most recent call last)",
      "\u001b[1;32mC:\\Users\\ARYAWI~1\\AppData\\Local\\Temp/ipykernel_11552/2545298618.py\u001b[0m in \u001b[0;36m<module>\u001b[1;34m\u001b[0m\n\u001b[0;32m     17\u001b[0m     \u001b[1;32mreturn\u001b[0m \u001b[0mmatrix\u001b[0m\u001b[1;33m\u001b[0m\u001b[1;33m\u001b[0m\u001b[0m\n\u001b[0;32m     18\u001b[0m \u001b[1;33m\u001b[0m\u001b[0m\n\u001b[1;32m---> 19\u001b[1;33m \u001b[0meig_val_m_frac\u001b[0m \u001b[1;33m=\u001b[0m \u001b[0mdecimal_to_fraction\u001b[0m\u001b[1;33m(\u001b[0m\u001b[0meig_val_m\u001b[0m\u001b[1;33m)\u001b[0m\u001b[1;33m\u001b[0m\u001b[1;33m\u001b[0m\u001b[0m\n\u001b[0m\u001b[0;32m     20\u001b[0m \u001b[0meig_vec_m_frac\u001b[0m \u001b[1;33m=\u001b[0m \u001b[0mdecimal_to_fraction\u001b[0m\u001b[1;33m(\u001b[0m\u001b[0meig_vec_m\u001b[0m\u001b[1;33m)\u001b[0m\u001b[1;33m\u001b[0m\u001b[1;33m\u001b[0m\u001b[0m\n\u001b[0;32m     21\u001b[0m \u001b[0mprint\u001b[0m\u001b[1;33m(\u001b[0m\u001b[0meig_val_m_frac\u001b[0m\u001b[1;33m,\u001b[0m \u001b[1;34m'\\n'\u001b[0m\u001b[1;33m)\u001b[0m\u001b[1;33m\u001b[0m\u001b[1;33m\u001b[0m\u001b[0m\n",
      "\u001b[1;32mC:\\Users\\ARYAWI~1\\AppData\\Local\\Temp/ipykernel_11552/2545298618.py\u001b[0m in \u001b[0;36mdecimal_to_fraction\u001b[1;34m(matrix)\u001b[0m\n\u001b[0;32m     13\u001b[0m \u001b[1;32mdef\u001b[0m \u001b[0mdecimal_to_fraction\u001b[0m\u001b[1;33m(\u001b[0m\u001b[0mmatrix\u001b[0m\u001b[1;33m)\u001b[0m\u001b[1;33m:\u001b[0m\u001b[1;33m\u001b[0m\u001b[1;33m\u001b[0m\u001b[0m\n\u001b[0;32m     14\u001b[0m     \u001b[1;32mfor\u001b[0m \u001b[0mi\u001b[0m \u001b[1;32min\u001b[0m \u001b[0mrange\u001b[0m\u001b[1;33m(\u001b[0m\u001b[0mlen\u001b[0m\u001b[1;33m(\u001b[0m\u001b[0mmatrix\u001b[0m\u001b[1;33m)\u001b[0m\u001b[1;33m)\u001b[0m\u001b[1;33m:\u001b[0m\u001b[1;33m\u001b[0m\u001b[1;33m\u001b[0m\u001b[0m\n\u001b[1;32m---> 15\u001b[1;33m         \u001b[1;32mfor\u001b[0m \u001b[0mj\u001b[0m \u001b[1;32min\u001b[0m \u001b[0mrange\u001b[0m\u001b[1;33m(\u001b[0m\u001b[0mlen\u001b[0m\u001b[1;33m(\u001b[0m\u001b[0mmatrix\u001b[0m\u001b[1;33m[\u001b[0m\u001b[1;36m0\u001b[0m\u001b[1;33m]\u001b[0m\u001b[1;33m)\u001b[0m\u001b[1;33m)\u001b[0m\u001b[1;33m:\u001b[0m\u001b[1;33m\u001b[0m\u001b[1;33m\u001b[0m\u001b[0m\n\u001b[0m\u001b[0;32m     16\u001b[0m             \u001b[0mmatrix\u001b[0m\u001b[1;33m[\u001b[0m\u001b[0mi\u001b[0m\u001b[1;33m,\u001b[0m\u001b[0mj\u001b[0m\u001b[1;33m]\u001b[0m \u001b[1;33m=\u001b[0m \u001b[0mFraction\u001b[0m\u001b[1;33m(\u001b[0m\u001b[0mmatrix\u001b[0m\u001b[1;33m[\u001b[0m\u001b[0mi\u001b[0m\u001b[1;33m,\u001b[0m\u001b[0mj\u001b[0m\u001b[1;33m]\u001b[0m\u001b[1;33m)\u001b[0m\u001b[1;33m\u001b[0m\u001b[1;33m\u001b[0m\u001b[0m\n\u001b[0;32m     17\u001b[0m     \u001b[1;32mreturn\u001b[0m \u001b[0mmatrix\u001b[0m\u001b[1;33m\u001b[0m\u001b[1;33m\u001b[0m\u001b[0m\n",
      "\u001b[1;31mTypeError\u001b[0m: object of type 'numpy.float64' has no len()"
     ]
    }
   ],
   "source": [
    "m = np.array([\n",
    "    [4, -5, 6],\n",
    "    [7, -8 , 6],\n",
    "    [3/2, -1/2, -2]\n",
    "    ])\n",
    "\n",
    "# find eigen\n",
    "eig_val_m, eig_vec_m = np.linalg.eig(m)\n",
    "print(eig_val_m, '\\n')\n",
    "print(eig_vec_m, '\\n')"
   ]
  }
 ],
 "metadata": {
  "interpreter": {
   "hash": "153cfa34b2fd7817ab0a10fa400c7428ae4a59674a5d86ff9506fd9606302b0e"
  },
  "kernelspec": {
   "display_name": "Python 3.8.12 ('DH-env')",
   "language": "python",
   "name": "python3"
  },
  "language_info": {
   "codemirror_mode": {
    "name": "ipython",
    "version": 3
   },
   "file_extension": ".py",
   "mimetype": "text/x-python",
   "name": "python",
   "nbconvert_exporter": "python",
   "pygments_lexer": "ipython3",
   "version": "3.8.12"
  },
  "orig_nbformat": 4
 },
 "nbformat": 4,
 "nbformat_minor": 2
}
