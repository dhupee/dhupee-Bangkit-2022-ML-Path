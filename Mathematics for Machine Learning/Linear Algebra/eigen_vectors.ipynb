{
 "cells": [
  {
   "cell_type": "code",
   "execution_count": 6,
   "metadata": {},
   "outputs": [],
   "source": [
    "import numpy as np\n",
    "import matplotlib.pyplot as plt"
   ]
  },
  {
   "cell_type": "code",
   "execution_count": 32,
   "metadata": {},
   "outputs": [
    {
     "name": "stdout",
     "output_type": "stream",
     "text": [
      "[[1 2]\n",
      " [3 4]] \n",
      "\n",
      "[[-1. -2.]\n",
      " [-3. -4.]] \n",
      "\n",
      "(array([-0.37228132,  5.37228132]), array([[-0.82456484, -0.41597356],\n",
      "       [ 0.56576746, -0.90937671]])) \n",
      "\n",
      "(array([ 0.37228132, -5.37228132]), array([[ 0.82456484,  0.41597356],\n",
      "       [-0.56576746,  0.90937671]])) \n",
      "\n",
      "[-1. -1.] \n",
      "\n",
      "[[-1. -1.]\n",
      " [-1. -1.]] \n",
      "\n"
     ]
    }
   ],
   "source": [
    "# find eigen vectors of a matrix\n",
    "\n",
    "# matrix a before transformation\n",
    "a = np.array([\n",
    "    [1, 2],\n",
    "    [3, 4]\n",
    "    ])\n",
    "print(a, '\\n')\n",
    "\n",
    "# rotate 2x2 matrix certain degrees\n",
    "def rotate_matrix(a, theta): # theta in degrees\n",
    "    theta = np.deg2rad(theta)\n",
    "    c, s = np.cos(theta), np.sin(theta)\n",
    "    R = np.array([\n",
    "        [c, -s],\n",
    "        [s, c]\n",
    "        ])\n",
    "    return np.dot(R, a)\n",
    "\n",
    "b = rotate_matrix(a, 180)\n",
    "print(b, '\\n')\n",
    "\n",
    "# find eigen vectors of a matrix\n",
    "def eigen_vectors(a):\n",
    "    eigen_values, eigen_vectors = np.linalg.eig(a)\n",
    "    return eigen_values, eigen_vectors\n",
    "\n",
    "print(eigen_vectors(a), '\\n')\n",
    "print(eigen_vectors(b), '\\n')\n",
    "\n",
    "# eigen value ratio between a and b\n",
    "print(eigen_vectors(a)[0]/eigen_vectors(b)[0], '\\n')\n",
    "# eigen vector ratio between a and b\n",
    "print(eigen_vectors(a)[1]/eigen_vectors(b)[1], '\\n')"
   ]
  },
  {
   "cell_type": "code",
   "execution_count": 34,
   "metadata": {},
   "outputs": [
    {
     "name": "stdout",
     "output_type": "stream",
     "text": [
      "[[9 0 4 2 7 7 4 1 3 2]\n",
      " [5 9 7 1 0 9 2 1 5 1]\n",
      " [4 5 8 2 5 9 6 8 1 9]\n",
      " [0 9 5 4 2 4 2 4 5 3]\n",
      " [7 9 0 6 8 7 7 6 7 8]\n",
      " [6 4 5 7 9 2 2 6 7 1]\n",
      " [3 0 4 6 5 8 6 8 6 6]\n",
      " [8 6 0 9 7 7 2 3 3 4]\n",
      " [0 8 5 4 2 6 7 1 8 6]\n",
      " [2 0 4 4 5 2 4 0 2 6]] \n",
      "\n",
      "45583988.999999985 \n",
      "\n",
      "[[9 5 4 0 7 6 3 8 0 2]\n",
      " [0 9 5 9 9 4 0 6 8 0]\n",
      " [4 7 8 5 0 5 4 0 5 4]\n",
      " [2 1 2 4 6 7 6 9 4 4]\n",
      " [7 0 5 2 8 9 5 7 2 5]\n",
      " [7 9 9 4 7 2 8 7 6 2]\n",
      " [4 2 6 2 7 2 6 2 7 4]\n",
      " [1 1 8 4 6 6 8 3 1 0]\n",
      " [3 5 1 5 7 7 6 3 8 2]\n",
      " [2 1 9 3 8 1 6 4 6 6]]\n"
     ]
    }
   ],
   "source": [
    "# 10x10 random matrix, range 0 to 10 integer\n",
    "a = np.random.randint(0, 10, (10, 10))\n",
    "print(a, '\\n')\n",
    "\n",
    "a_det = np.linalg.det(a)\n",
    "print(a_det, '\\n')\n",
    "\n",
    "a_trans = np.transpose(a)\n",
    "print(a_trans)"
   ]
  },
  {
   "cell_type": "code",
   "execution_count": null,
   "metadata": {},
   "outputs": [],
   "source": []
  }
 ],
 "metadata": {
  "interpreter": {
   "hash": "153cfa34b2fd7817ab0a10fa400c7428ae4a59674a5d86ff9506fd9606302b0e"
  },
  "kernelspec": {
   "display_name": "Python 3.8.12 ('DH-env')",
   "language": "python",
   "name": "python3"
  },
  "language_info": {
   "codemirror_mode": {
    "name": "ipython",
    "version": 3
   },
   "file_extension": ".py",
   "mimetype": "text/x-python",
   "name": "python",
   "nbconvert_exporter": "python",
   "pygments_lexer": "ipython3",
   "version": "3.8.12"
  },
  "orig_nbformat": 4
 },
 "nbformat": 4,
 "nbformat_minor": 2
}
