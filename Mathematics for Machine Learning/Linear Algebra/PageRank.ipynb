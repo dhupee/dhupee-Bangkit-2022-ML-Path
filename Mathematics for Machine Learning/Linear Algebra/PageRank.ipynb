{
 "cells": [
  {
   "cell_type": "markdown",
   "metadata": {
    "collapsed": true
   },
   "source": [
    "# PageRank\n",
    "In this notebook, you'll build on your knowledge of eigenvectors and eigenvalues by exploring the PageRank algorithm.\n",
    "The notebook is in two parts, the first is a worksheet to get you up to speed with how the algorithm works - here we will look at a micro-internet with fewer than 10 websites and see what it does and what can go wrong.\n",
    "The second is an assessment which will test your application of eigentheory to this problem by writing code and calculating the page rank of a large network representing a sub-section of the internet."
   ]
  },
  {
   "cell_type": "markdown",
   "metadata": {},
   "source": [
    "## Part 1 - Worksheet\n",
    "### Introduction\n",
    "\n",
    "PageRank (developed by Larry Page and Sergey Brin) revolutionized web search by generating a\n",
    "ranked list of web pages based on the underlying connectivity of the web. The PageRank algorithm is\n",
    "based on an ideal random web surfer who, when reaching a page, goes to the next page by clicking on a\n",
    "link. The surfer has equal probability of clicking any link on the page and, when reaching a page with no\n",
    "links, has equal probability of moving to any other page by typing in its URL. In addition, the surfer may\n",
    "occasionally choose to type in a random URL instead of following the links on a page. The PageRank is\n",
    "the ranked order of the pages from the most to the least probable page the surfer will be viewing.\n"
   ]
  },
  {
   "cell_type": "code",
   "execution_count": 37,
   "metadata": {},
   "outputs": [
    {
     "name": "stdout",
     "output_type": "stream",
     "text": [
      "Populating the interactive namespace from numpy and matplotlib\n"
     ]
    }
   ],
   "source": [
    "# Before we begin, let's load the libraries.\n",
    "%pylab notebook\n",
    "import numpy as np\n",
    "import numpy.linalg as la\n",
    "from readonly.PageRankFunctions import *\n",
    "np.set_printoptions(suppress=True)"
   ]
  },
  {
   "cell_type": "markdown",
   "metadata": {},
   "source": [
    "### PageRank as a linear algebra problem\n",
    "Let's imagine a micro-internet, with just 6 websites (**A**vocado, **B**ullseye, **C**atBabel, **D**romeda, **e**Tings, and **F**aceSpace).\n",
    "Each website links to some of the others, and this forms a network as shown,\n",
    "\n",
    "![A Micro-Internet](readonly/internet.png \"A Micro-Internet\")\n",
    "\n",
    "The design principle of PageRank is that important websites will be linked to by important websites.\n",
    "This somewhat recursive principle will form the basis of our thinking.\n",
    "\n",
    "Imagine we have 100 *Procrastinating Pat*s on our micro-internet, each viewing a single website at a time.\n",
    "Each minute the Pats follow a link on their website to another site on the micro-internet.\n",
    "After a while, the websites that are most linked to will have more Pats visiting them, and in the long run, each minute for every Pat that leaves a website, another will enter keeping the total numbers of Pats on each website constant.\n",
    "The PageRank is simply the ranking of websites by how many Pats they have on them at the end of this process.\n",
    "\n",
    "We represent the number of Pats on each website with the vector,\n",
    "$$\\mathbf{r} = \\begin{bmatrix} r_A \\\\ r_B \\\\ r_C \\\\ r_D \\\\ r_E \\\\ r_F \\end{bmatrix}$$\n",
    "And say that the number of Pats on each website in minute $i+1$ is related to those at minute $i$ by the matrix transformation\n",
    "\n",
    "$$ \\mathbf{r}^{(i+1)} = L \\,\\mathbf{r}^{(i)}$$\n",
    "with the matrix $L$ taking the form,\n",
    "$$ L = \\begin{bmatrix}\n",
    "L_{A→A} & L_{B→A} & L_{C→A} & L_{D→A} & L_{E→A} & L_{F→A} \\\\\n",
    "L_{A→B} & L_{B→B} & L_{C→B} & L_{D→B} & L_{E→B} & L_{F→B} \\\\\n",
    "L_{A→C} & L_{B→C} & L_{C→C} & L_{D→C} & L_{E→C} & L_{F→C} \\\\\n",
    "L_{A→D} & L_{B→D} & L_{C→D} & L_{D→D} & L_{E→D} & L_{F→D} \\\\\n",
    "L_{A→E} & L_{B→E} & L_{C→E} & L_{D→E} & L_{E→E} & L_{F→E} \\\\\n",
    "L_{A→F} & L_{B→F} & L_{C→F} & L_{D→F} & L_{E→F} & L_{F→F} \\\\\n",
    "\\end{bmatrix}\n",
    "$$\n",
    "where the columns represent the probability of leaving a website for any other website, and sum to one.\n",
    "The rows determine how likely you are to enter a website from any other, though these need not add to one.\n",
    "The long time behaviour of this system is when $ \\mathbf{r}^{(i+1)} = \\mathbf{r}^{(i)}$, so we'll drop the superscripts here, and that allows us to write,\n",
    "$$ L \\,\\mathbf{r} = \\mathbf{r}$$\n",
    "\n",
    "which is an eigenvalue equation for the matrix $L$, with eigenvalue 1 (this is guaranteed by the probabalistic structure of the matrix $L$).\n",
    "\n",
    "Complete the matrix $L$ below, we've left out the column for which websites the *FaceSpace* website (F) links to.\n",
    "Remember, this is the probability to click on another website from this one, so each column should add to one (by scaling by the number of links)."
   ]
  },
  {
   "cell_type": "code",
   "execution_count": 38,
   "metadata": {
    "collapsed": true
   },
   "outputs": [],
   "source": [
    "# Replace the ??? here with the probability of clicking a link to each website when leaving Website F (FaceSpace).\n",
    "L = np.array([\n",
    "    [0,     1/2,  1/3,    0,  0,   0],\n",
    "    [1/3,   0,    0,      0,  1/2, 0],\n",
    "    [1/3,   1/2,  0,      1,  0,   1/2],\n",
    "    [1/3,   0,    1/3,    0,  1/2, 1/2],\n",
    "    [0,     0,    0,      0,  0,   0],\n",
    "    [0,     0,    1/3,    0,  0,   0]\n",
    "    ])"
   ]
  },
  {
   "cell_type": "markdown",
   "metadata": {},
   "source": [
    "In principle, we could use a linear algebra library, as below, to calculate the eigenvalues and vectors.\n",
    "And this would work for a small system. But this gets unmanagable for large systems.\n",
    "And since we only care about the principal eigenvector (the one with the largest eigenvalue, which will be 1 in this case), we can use the *power iteration method* which will scale better, and is faster for large systems.\n",
    "\n",
    "Use the code below to peek at the PageRank for this micro-internet."
   ]
  },
  {
   "cell_type": "code",
   "execution_count": 39,
   "metadata": {},
   "outputs": [
    {
     "data": {
      "text/plain": [
       "array([ 16.        ,   5.33333333,  40.        ,  25.33333333,\n",
       "         0.        ,  13.33333333])"
      ]
     },
     "execution_count": 39,
     "metadata": {},
     "output_type": "execute_result"
    }
   ],
   "source": [
    "eVals, eVecs = la.eig(L) # Gets the eigenvalues and vectors\n",
    "order = np.absolute(eVals).argsort()[::-1] # Orders them by their eigenvalues\n",
    "eVals = eVals[order]\n",
    "eVecs = eVecs[:,order]\n",
    "\n",
    "r = eVecs[:, 0] # Sets r to be the principal eigenvector\n",
    "100 * np.real(r / np.sum(r)) # Make this eigenvector sum to one, then multiply by 100 Procrastinating Pats"
   ]
  },
  {
   "cell_type": "markdown",
   "metadata": {},
   "source": [
    "We can see from this list, the number of Procrastinating Pats that we expect to find on each website after long times.\n",
    "Putting them in order of *popularity* (based on this metric), the PageRank of this micro-internet is:\n",
    "\n",
    "**C**atBabel, **D**romeda, **A**vocado, **F**aceSpace, **B**ullseye, **e**Tings\n",
    "\n",
    "Referring back to the micro-internet diagram, is this what you would have expected?\n",
    "Convince yourself that based on which pages seem important given which others link to them, that this is a sensible ranking.\n",
    "\n",
    "Let's now try to get the same result using the Power-Iteration method that was covered in the video.\n",
    "This method will be much better at dealing with large systems.\n",
    "\n",
    "First let's set up our initial vector, $\\mathbf{r}^{(0)}$, so that we have our 100 Procrastinating Pats equally distributed on each of our 6 websites."
   ]
  },
  {
   "cell_type": "code",
   "execution_count": 40,
   "metadata": {},
   "outputs": [
    {
     "data": {
      "text/plain": [
       "array([ 16.66666667,  16.66666667,  16.66666667,  16.66666667,\n",
       "        16.66666667,  16.66666667])"
      ]
     },
     "execution_count": 40,
     "metadata": {},
     "output_type": "execute_result"
    }
   ],
   "source": [
    "r = 100 * np.ones(6) / 6 # Sets up this vector (6 entries of 1/6 × 100 each)\n",
    "r # Shows it's value"
   ]
  },
  {
   "cell_type": "markdown",
   "metadata": {},
   "source": [
    "Next, let's update the vector to the next minute, with the matrix $L$.\n",
    "Run the following cell multiple times, until the answer stabilises."
   ]
  },
  {
   "cell_type": "code",
   "execution_count": 41,
   "metadata": {},
   "outputs": [
    {
     "data": {
      "text/plain": [
       "array([ 13.88888889,  13.88888889,  38.88888889,  27.77777778,\n",
       "         0.        ,   5.55555556])"
      ]
     },
     "execution_count": 41,
     "metadata": {},
     "output_type": "execute_result"
    }
   ],
   "source": [
    "r = L @ r # Apply matrix L to r\n",
    "r # Show it's value\n",
    "# Re-run this cell multiple times to converge to the correct answer."
   ]
  },
  {
   "cell_type": "markdown",
   "metadata": {},
   "source": [
    "We can automate applying this matrix multiple times as follows,"
   ]
  },
  {
   "cell_type": "code",
   "execution_count": 42,
   "metadata": {},
   "outputs": [
    {
     "data": {
      "text/plain": [
       "array([ 16.        ,   5.33333333,  40.        ,  25.33333333,\n",
       "         0.        ,  13.33333333])"
      ]
     },
     "execution_count": 42,
     "metadata": {},
     "output_type": "execute_result"
    }
   ],
   "source": [
    "r = 100 * np.ones(6) / 6 # Sets up this vector (6 entries of 1/6 × 100 each)\n",
    "for i in np.arange(100) : # Repeat 100 times\n",
    "    r = L @ r\n",
    "r"
   ]
  },
  {
   "cell_type": "markdown",
   "metadata": {},
   "source": [
    "Or even better, we can keep running until we get to the required tolerance."
   ]
  },
  {
   "cell_type": "code",
   "execution_count": 43,
   "metadata": {},
   "outputs": [
    {
     "name": "stdout",
     "output_type": "stream",
     "text": [
      "18 iterations to convergence.\n"
     ]
    },
    {
     "data": {
      "text/plain": [
       "array([ 16.00149917,   5.33252025,  39.99916911,  25.3324738 ,\n",
       "         0.        ,  13.33433767])"
      ]
     },
     "execution_count": 43,
     "metadata": {},
     "output_type": "execute_result"
    }
   ],
   "source": [
    "r = 100 * np.ones(6) / 6 # Sets up this vector (6 entries of 1/6 × 100 each)\n",
    "lastR = r\n",
    "r = L @ r\n",
    "i = 0\n",
    "while la.norm(lastR - r) > 0.01 :\n",
    "    lastR = r\n",
    "    r = L @ r\n",
    "    i += 1\n",
    "print(str(i) + \" iterations to convergence.\")\n",
    "r"
   ]
  },
  {
   "cell_type": "markdown",
   "metadata": {},
   "source": [
    "See how the PageRank order is established fairly quickly, and the vector converges on the value we calculated earlier after a few tens of repeats.\n",
    "\n",
    "Congratulations! You've just calculated your first PageRank!"
   ]
  },
  {
   "cell_type": "markdown",
   "metadata": {},
   "source": [
    "### Damping Parameter\n",
    "The system we just studied converged fairly quickly to the correct answer.\n",
    "Let's consider an extension to our micro-internet where things start to go wrong.\n",
    "\n",
    "Say a new website is added to the micro-internet: *Geoff's* Website.\n",
    "This website is linked to by *FaceSpace* and only links to itself.\n",
    "![An Expanded Micro-Internet](readonly/internet2.png \"An Expanded Micro-Internet\")\n",
    "\n",
    "Intuitively, only *FaceSpace*, which is in the bottom half of the page rank, links to this website amongst the two others it links to,\n",
    "so we might expect *Geoff's* site to have a correspondingly low PageRank score.\n",
    "\n",
    "Build the new $L$ matrix for the expanded micro-internet, and use Power-Iteration on the Procrastinating Pat vector.\n",
    "See what happens…"
   ]
  },
  {
   "cell_type": "code",
   "execution_count": 44,
   "metadata": {
    "collapsed": true
   },
   "outputs": [],
   "source": [
    " # We'll call this one L2, to distinguish it from the previous L.\n",
    "L2 = np.array([\n",
    "    [0,   1/2, 1/3, 0, 0,   0,   0],\n",
    "    [1/3, 0,   0,   0, 1/2, 0,   0],\n",
    "    [1/3, 1/2, 0,   1, 0,   0,   0],\n",
    "    [1/3, 0,   1/3, 0, 1/2, 0,   0],\n",
    "    [0,   0,   0,   0, 0,   0,   0],\n",
    "    [0,   0,   1/3, 0, 0,   1,   0],\n",
    "    [0,   0,   0,   0, 0,   0,   1]\n",
    "])"
   ]
  },
  {
   "cell_type": "code",
   "execution_count": 45,
   "metadata": {},
   "outputs": [
    {
     "name": "stdout",
     "output_type": "stream",
     "text": [
      "46 iterations to convergence.\n"
     ]
    },
    {
     "data": {
      "text/plain": [
       "array([  0.01077429,   0.00420324,   0.02131321,   0.01251789,\n",
       "         0.        ,  85.66547709,  14.28571429])"
      ]
     },
     "execution_count": 45,
     "metadata": {},
     "output_type": "execute_result"
    }
   ],
   "source": [
    "r = 100 * np.ones(7) / 7 # Sets up this vector (6 entries of 1/6 × 100 each)\n",
    "lastR = r\n",
    "r = L2 @ r\n",
    "i = 0\n",
    "while la.norm(lastR - r) > 0.01 :\n",
    "    lastR = r\n",
    "    r = L2 @ r\n",
    "    i += 1\n",
    "print(str(i) + \" iterations to convergence.\")\n",
    "r"
   ]
  },
  {
   "cell_type": "markdown",
   "metadata": {},
   "source": [
    "That's no good! *Geoff* seems to be taking all the traffic on the micro-internet, and somehow coming at the top of the PageRank.\n",
    "This behaviour can be understood, because once a Pat get's to *Geoff's* Website, they can't leave, as all links head back to Geoff.\n",
    "\n",
    "To combat this, we can add a small probability that the Procrastinating Pats don't follow any link on a webpage, but instead visit a website on the micro-internet at random.\n",
    "We'll say the probability of them following a link is $d$ and the probability of choosing a random website is therefore $1-d$.\n",
    "We can use a new matrix to work out where the Pat's visit each minute.\n",
    "$$ M = d \\, L + \\frac{1-d}{n} \\, J $$\n",
    "where $J$ is an $n\\times n$ matrix where every element is one.\n",
    "\n",
    "If $d$ is one, we have the case we had previously, whereas if $d$ is zero, we will always visit a random webpage and therefore all webpages will be equally likely and equally ranked.\n",
    "For this extension to work best, $1-d$ should be somewhat small - though we won't go into a discussion about exactly how small.\n",
    "\n",
    "Let's retry this PageRank with this extension."
   ]
  },
  {
   "cell_type": "code",
   "execution_count": 46,
   "metadata": {
    "collapsed": true
   },
   "outputs": [],
   "source": [
    "d = 0.5 # Feel free to play with this parameter after running the code once.\n",
    "M = d * L2 + (1-d)/7 * np.ones([7, 7]) # np.ones() is the J matrix, with ones for each entry."
   ]
  },
  {
   "cell_type": "code",
   "execution_count": 47,
   "metadata": {},
   "outputs": [
    {
     "name": "stdout",
     "output_type": "stream",
     "text": [
      "8 iterations to convergence.\n"
     ]
    },
    {
     "data": {
      "text/plain": [
       "array([ 13.13619674,  11.11812027,  19.27885503,  14.33173875,\n",
       "         7.14285714,  20.70651779,  14.28571429])"
      ]
     },
     "execution_count": 47,
     "metadata": {},
     "output_type": "execute_result"
    }
   ],
   "source": [
    "r = 100 * np.ones(7) / 7 # Sets up this vector (6 entries of 1/6 × 100 each)\n",
    "lastR = r\n",
    "r = M @ r\n",
    "i = 0\n",
    "while la.norm(lastR - r) > 0.01 :\n",
    "    lastR = r\n",
    "    r = M @ r\n",
    "    i += 1\n",
    "print(str(i) + \" iterations to convergence.\")\n",
    "r"
   ]
  },
  {
   "cell_type": "markdown",
   "metadata": {},
   "source": [
    "This is certainly better, the PageRank gives sensible numbers for the Procrastinating Pats that end up on each webpage.\n",
    "This method still predicts Geoff has a high ranking webpage however.\n",
    "This could be seen as a consequence of using a small network. We could also get around the problem by not counting self-links when producing the L matrix (an if a website has no outgoing links, make it link to all websites equally).\n",
    "We won't look further down this route, as this is in the realm of improvements to PageRank, rather than eigenproblems.\n",
    "\n",
    "You are now in a good position, having gained an understanding of PageRank, to produce your own code to calculate the PageRank of a website with thousands of entries.\n",
    "\n",
    "Good Luck!"
   ]
  },
  {
   "cell_type": "markdown",
   "metadata": {},
   "source": [
    "## Part 2 - Assessment\n",
    "In this assessment, you will be asked to produce a function that can calculate the PageRank for an arbitrarily large probability matrix.\n",
    "This, the final assignment of the course, will give less guidance than previous assessments.\n",
    "You will be expected to utilise code from earlier in the worksheet and re-purpose it to your needs.\n",
    "\n",
    "### How to submit\n",
    "Edit the code in the cell below to complete the assignment.\n",
    "Once you are finished and happy with it, press the *Submit Assignment* button at the top of this notebook.\n",
    "\n",
    "Please don't change any of the function names, as these will be checked by the grading script.\n",
    "\n",
    "If you have further questions about submissions or programming assignments, here is a [list](https://www.coursera.org/learn/linear-algebra-machine-learning/discussions/weeks/1/threads/jB4klkn5EeibtBIQyzFmQg) of Q&A. You can also raise an issue on the discussion forum. Good luck!"
   ]
  },
  {
   "cell_type": "code",
   "execution_count": 48,
   "metadata": {
    "collapsed": true
   },
   "outputs": [],
   "source": [
    "# PACKAGE\n",
    "# Here are the imports again, just in case you need them.\n",
    "# There is no need to edit or submit this cell.\n",
    "import numpy as np\n",
    "import numpy.linalg as la\n",
    "from readonly.PageRankFunctions import *\n",
    "np.set_printoptions(suppress=True)"
   ]
  },
  {
   "cell_type": "code",
   "execution_count": 49,
   "metadata": {
    "collapsed": true
   },
   "outputs": [],
   "source": [
    "# GRADED FUNCTION\n",
    "# Complete this function to provide the PageRank for an arbitrarily sized internet.\n",
    "# I.e. the principal eigenvector of the damped system, using the power iteration method.\n",
    "# (Normalisation doesn't matter here)\n",
    "# The functions inputs are the linkMatrix, and d the damping parameter - as defined in this worksheet.\n",
    "# (The damping parameter, d, will be set by the function - no need to set this yourself.)\n",
    "def pageRank(linkMatrix, d) :\n",
    "    n = linkMatrix.shape[0]\n",
    "    M = d * linkMatrix + (1-d)/n * np.ones([n, n])\n",
    "    r = 100 * np.ones(n) / n # Sets up this vector (6 entries of 1/6 × 100 each)\n",
    "    last = r\n",
    "    r = M @ r\n",
    "    while la.norm(last - r) > 0.01 :\n",
    "        last = r\n",
    "        r = M @ r\n",
    "    \n",
    "    return r\n"
   ]
  },
  {
   "cell_type": "markdown",
   "metadata": {},
   "source": [
    "## Test your code before submission\n",
    "To test the code you've written above, run the cell (select the cell above, then press the play button [ ▶| ] or press shift-enter).\n",
    "You can then use the code below to test out your function.\n",
    "You don't need to submit this cell; you can edit and run it as much as you like."
   ]
  },
  {
   "cell_type": "code",
   "execution_count": 50,
   "metadata": {},
   "outputs": [
    {
     "data": {
      "text/plain": [
       "array([[ 0. ,  0.2,  0.2,  0. ,  0.2],\n",
       "       [ 0.5,  0.2,  0.2,  0. ,  0.2],\n",
       "       [ 0.5,  0.2,  0.2,  0. ,  0.2],\n",
       "       [ 0. ,  0.2,  0.2,  0.5,  0.2],\n",
       "       [ 0. ,  0.2,  0.2,  0.5,  0.2]])"
      ]
     },
     "execution_count": 50,
     "metadata": {},
     "output_type": "execute_result"
    }
   ],
   "source": [
    "# Use the following function to generate internets of different sizes.\n",
    "generate_internet(5)"
   ]
  },
  {
   "cell_type": "code",
   "execution_count": 51,
   "metadata": {
    "collapsed": true
   },
   "outputs": [],
   "source": [
    "# Test your PageRank method against the built in \"eig\" method.\n",
    "# You should see yours is a lot faster for large internets\n",
    "L = generate_internet(10)"
   ]
  },
  {
   "cell_type": "code",
   "execution_count": 52,
   "metadata": {},
   "outputs": [
    {
     "data": {
      "text/plain": [
       "array([  0.00916389,  99.31464168,   0.10092684,   0.1114402 ,\n",
       "         0.00916389,   0.13138055,   0.1423011 ,   0.09055219,\n",
       "         0.08126578,   0.00916389])"
      ]
     },
     "execution_count": 52,
     "metadata": {},
     "output_type": "execute_result"
    }
   ],
   "source": [
    "pageRank(L, 1)"
   ]
  },
  {
   "cell_type": "code",
   "execution_count": 53,
   "metadata": {},
   "outputs": [
    {
     "data": {
      "text/plain": [
       "array([  0.0000001,  99.9999932,   0.000001 ,   0.0000011,   0.0000001,\n",
       "         0.0000013,   0.0000014,   0.0000009,   0.0000008,   0.0000001])"
      ]
     },
     "execution_count": 53,
     "metadata": {},
     "output_type": "execute_result"
    }
   ],
   "source": [
    "# Do note, this is calculating the eigenvalues of the link matrix, L,\n",
    "# without any damping. It may give different results that your pageRank function.\n",
    "# If you wish, you could modify this cell to include damping.\n",
    "# (There is no credit for this though)\n",
    "eVals, eVecs = la.eig(L) # Gets the eigenvalues and vectors\n",
    "order = np.absolute(eVals).argsort()[::-1] # Orders them by their eigenvalues\n",
    "eVals = eVals[order]\n",
    "eVecs = eVecs[:,order]\n",
    "\n",
    "r = eVecs[:, 0]\n",
    "100 * np.real(r / np.sum(r))"
   ]
  },
  {
   "cell_type": "code",
   "execution_count": 54,
   "metadata": {},
   "outputs": [
    {
     "name": "stdout",
     "output_type": "stream",
     "text": [
      "Populating the interactive namespace from numpy and matplotlib\n"
     ]
    },
    {
     "data": {
      "application/javascript": "/* Put everything inside the global mpl namespace */\nwindow.mpl = {};\n\n\nmpl.get_websocket_type = function() {\n    if (typeof(WebSocket) !== 'undefined') {\n        return WebSocket;\n    } else if (typeof(MozWebSocket) !== 'undefined') {\n        return MozWebSocket;\n    } else {\n        alert('Your browser does not have WebSocket support.' +\n              'Please try Chrome, Safari or Firefox ≥ 6. ' +\n              'Firefox 4 and 5 are also supported but you ' +\n              'have to enable WebSockets in about:config.');\n    };\n}\n\nmpl.figure = function(figure_id, websocket, ondownload, parent_element) {\n    this.id = figure_id;\n\n    this.ws = websocket;\n\n    this.supports_binary = (this.ws.binaryType != undefined);\n\n    if (!this.supports_binary) {\n        var warnings = document.getElementById(\"mpl-warnings\");\n        if (warnings) {\n            warnings.style.display = 'block';\n            warnings.textContent = (\n                \"This browser does not support binary websocket messages. \" +\n                    \"Performance may be slow.\");\n        }\n    }\n\n    this.imageObj = new Image();\n\n    this.context = undefined;\n    this.message = undefined;\n    this.canvas = undefined;\n    this.rubberband_canvas = undefined;\n    this.rubberband_context = undefined;\n    this.format_dropdown = undefined;\n\n    this.image_mode = 'full';\n\n    this.root = $('<div/>');\n    this._root_extra_style(this.root)\n    this.root.attr('style', 'display: inline-block');\n\n    $(parent_element).append(this.root);\n\n    this._init_header(this);\n    this._init_canvas(this);\n    this._init_toolbar(this);\n\n    var fig = this;\n\n    this.waiting = false;\n\n    this.ws.onopen =  function () {\n            fig.send_message(\"supports_binary\", {value: fig.supports_binary});\n            fig.send_message(\"send_image_mode\", {});\n            if (mpl.ratio != 1) {\n                fig.send_message(\"set_dpi_ratio\", {'dpi_ratio': mpl.ratio});\n            }\n            fig.send_message(\"refresh\", {});\n        }\n\n    this.imageObj.onload = function() {\n            if (fig.image_mode == 'full') {\n                // Full images could contain transparency (where diff images\n                // almost always do), so we need to clear the canvas so that\n                // there is no ghosting.\n                fig.context.clearRect(0, 0, fig.canvas.width, fig.canvas.height);\n            }\n            fig.context.drawImage(fig.imageObj, 0, 0);\n        };\n\n    this.imageObj.onunload = function() {\n        this.ws.close();\n    }\n\n    this.ws.onmessage = this._make_on_message_function(this);\n\n    this.ondownload = ondownload;\n}\n\nmpl.figure.prototype._init_header = function() {\n    var titlebar = $(\n        '<div class=\"ui-dialog-titlebar ui-widget-header ui-corner-all ' +\n        'ui-helper-clearfix\"/>');\n    var titletext = $(\n        '<div class=\"ui-dialog-title\" style=\"width: 100%; ' +\n        'text-align: center; padding: 3px;\"/>');\n    titlebar.append(titletext)\n    this.root.append(titlebar);\n    this.header = titletext[0];\n}\n\n\n\nmpl.figure.prototype._canvas_extra_style = function(canvas_div) {\n\n}\n\n\nmpl.figure.prototype._root_extra_style = function(canvas_div) {\n\n}\n\nmpl.figure.prototype._init_canvas = function() {\n    var fig = this;\n\n    var canvas_div = $('<div/>');\n\n    canvas_div.attr('style', 'position: relative; clear: both; outline: 0');\n\n    function canvas_keyboard_event(event) {\n        return fig.key_event(event, event['data']);\n    }\n\n    canvas_div.keydown('key_press', canvas_keyboard_event);\n    canvas_div.keyup('key_release', canvas_keyboard_event);\n    this.canvas_div = canvas_div\n    this._canvas_extra_style(canvas_div)\n    this.root.append(canvas_div);\n\n    var canvas = $('<canvas/>');\n    canvas.addClass('mpl-canvas');\n    canvas.attr('style', \"left: 0; top: 0; z-index: 0; outline: 0\")\n\n    this.canvas = canvas[0];\n    this.context = canvas[0].getContext(\"2d\");\n\n    var backingStore = this.context.backingStorePixelRatio ||\n\tthis.context.webkitBackingStorePixelRatio ||\n\tthis.context.mozBackingStorePixelRatio ||\n\tthis.context.msBackingStorePixelRatio ||\n\tthis.context.oBackingStorePixelRatio ||\n\tthis.context.backingStorePixelRatio || 1;\n\n    mpl.ratio = (window.devicePixelRatio || 1) / backingStore;\n\n    var rubberband = $('<canvas/>');\n    rubberband.attr('style', \"position: absolute; left: 0; top: 0; z-index: 1;\")\n\n    var pass_mouse_events = true;\n\n    canvas_div.resizable({\n        start: function(event, ui) {\n            pass_mouse_events = false;\n        },\n        resize: function(event, ui) {\n            fig.request_resize(ui.size.width, ui.size.height);\n        },\n        stop: function(event, ui) {\n            pass_mouse_events = true;\n            fig.request_resize(ui.size.width, ui.size.height);\n        },\n    });\n\n    function mouse_event_fn(event) {\n        if (pass_mouse_events)\n            return fig.mouse_event(event, event['data']);\n    }\n\n    rubberband.mousedown('button_press', mouse_event_fn);\n    rubberband.mouseup('button_release', mouse_event_fn);\n    // Throttle sequential mouse events to 1 every 20ms.\n    rubberband.mousemove('motion_notify', mouse_event_fn);\n\n    rubberband.mouseenter('figure_enter', mouse_event_fn);\n    rubberband.mouseleave('figure_leave', mouse_event_fn);\n\n    canvas_div.on(\"wheel\", function (event) {\n        event = event.originalEvent;\n        event['data'] = 'scroll'\n        if (event.deltaY < 0) {\n            event.step = 1;\n        } else {\n            event.step = -1;\n        }\n        mouse_event_fn(event);\n    });\n\n    canvas_div.append(canvas);\n    canvas_div.append(rubberband);\n\n    this.rubberband = rubberband;\n    this.rubberband_canvas = rubberband[0];\n    this.rubberband_context = rubberband[0].getContext(\"2d\");\n    this.rubberband_context.strokeStyle = \"#000000\";\n\n    this._resize_canvas = function(width, height) {\n        // Keep the size of the canvas, canvas container, and rubber band\n        // canvas in synch.\n        canvas_div.css('width', width)\n        canvas_div.css('height', height)\n\n        canvas.attr('width', width * mpl.ratio);\n        canvas.attr('height', height * mpl.ratio);\n        canvas.attr('style', 'width: ' + width + 'px; height: ' + height + 'px;');\n\n        rubberband.attr('width', width);\n        rubberband.attr('height', height);\n    }\n\n    // Set the figure to an initial 600x600px, this will subsequently be updated\n    // upon first draw.\n    this._resize_canvas(600, 600);\n\n    // Disable right mouse context menu.\n    $(this.rubberband_canvas).bind(\"contextmenu\",function(e){\n        return false;\n    });\n\n    function set_focus () {\n        canvas.focus();\n        canvas_div.focus();\n    }\n\n    window.setTimeout(set_focus, 100);\n}\n\nmpl.figure.prototype._init_toolbar = function() {\n    var fig = this;\n\n    var nav_element = $('<div/>')\n    nav_element.attr('style', 'width: 100%');\n    this.root.append(nav_element);\n\n    // Define a callback function for later on.\n    function toolbar_event(event) {\n        return fig.toolbar_button_onclick(event['data']);\n    }\n    function toolbar_mouse_event(event) {\n        return fig.toolbar_button_onmouseover(event['data']);\n    }\n\n    for(var toolbar_ind in mpl.toolbar_items) {\n        var name = mpl.toolbar_items[toolbar_ind][0];\n        var tooltip = mpl.toolbar_items[toolbar_ind][1];\n        var image = mpl.toolbar_items[toolbar_ind][2];\n        var method_name = mpl.toolbar_items[toolbar_ind][3];\n\n        if (!name) {\n            // put a spacer in here.\n            continue;\n        }\n        var button = $('<button/>');\n        button.addClass('ui-button ui-widget ui-state-default ui-corner-all ' +\n                        'ui-button-icon-only');\n        button.attr('role', 'button');\n        button.attr('aria-disabled', 'false');\n        button.click(method_name, toolbar_event);\n        button.mouseover(tooltip, toolbar_mouse_event);\n\n        var icon_img = $('<span/>');\n        icon_img.addClass('ui-button-icon-primary ui-icon');\n        icon_img.addClass(image);\n        icon_img.addClass('ui-corner-all');\n\n        var tooltip_span = $('<span/>');\n        tooltip_span.addClass('ui-button-text');\n        tooltip_span.html(tooltip);\n\n        button.append(icon_img);\n        button.append(tooltip_span);\n\n        nav_element.append(button);\n    }\n\n    var fmt_picker_span = $('<span/>');\n\n    var fmt_picker = $('<select/>');\n    fmt_picker.addClass('mpl-toolbar-option ui-widget ui-widget-content');\n    fmt_picker_span.append(fmt_picker);\n    nav_element.append(fmt_picker_span);\n    this.format_dropdown = fmt_picker[0];\n\n    for (var ind in mpl.extensions) {\n        var fmt = mpl.extensions[ind];\n        var option = $(\n            '<option/>', {selected: fmt === mpl.default_extension}).html(fmt);\n        fmt_picker.append(option)\n    }\n\n    // Add hover states to the ui-buttons\n    $( \".ui-button\" ).hover(\n        function() { $(this).addClass(\"ui-state-hover\");},\n        function() { $(this).removeClass(\"ui-state-hover\");}\n    );\n\n    var status_bar = $('<span class=\"mpl-message\"/>');\n    nav_element.append(status_bar);\n    this.message = status_bar[0];\n}\n\nmpl.figure.prototype.request_resize = function(x_pixels, y_pixels) {\n    // Request matplotlib to resize the figure. Matplotlib will then trigger a resize in the client,\n    // which will in turn request a refresh of the image.\n    this.send_message('resize', {'width': x_pixels, 'height': y_pixels});\n}\n\nmpl.figure.prototype.send_message = function(type, properties) {\n    properties['type'] = type;\n    properties['figure_id'] = this.id;\n    this.ws.send(JSON.stringify(properties));\n}\n\nmpl.figure.prototype.send_draw_message = function() {\n    if (!this.waiting) {\n        this.waiting = true;\n        this.ws.send(JSON.stringify({type: \"draw\", figure_id: this.id}));\n    }\n}\n\n\nmpl.figure.prototype.handle_save = function(fig, msg) {\n    var format_dropdown = fig.format_dropdown;\n    var format = format_dropdown.options[format_dropdown.selectedIndex].value;\n    fig.ondownload(fig, format);\n}\n\n\nmpl.figure.prototype.handle_resize = function(fig, msg) {\n    var size = msg['size'];\n    if (size[0] != fig.canvas.width || size[1] != fig.canvas.height) {\n        fig._resize_canvas(size[0], size[1]);\n        fig.send_message(\"refresh\", {});\n    };\n}\n\nmpl.figure.prototype.handle_rubberband = function(fig, msg) {\n    var x0 = msg['x0'] / mpl.ratio;\n    var y0 = (fig.canvas.height - msg['y0']) / mpl.ratio;\n    var x1 = msg['x1'] / mpl.ratio;\n    var y1 = (fig.canvas.height - msg['y1']) / mpl.ratio;\n    x0 = Math.floor(x0) + 0.5;\n    y0 = Math.floor(y0) + 0.5;\n    x1 = Math.floor(x1) + 0.5;\n    y1 = Math.floor(y1) + 0.5;\n    var min_x = Math.min(x0, x1);\n    var min_y = Math.min(y0, y1);\n    var width = Math.abs(x1 - x0);\n    var height = Math.abs(y1 - y0);\n\n    fig.rubberband_context.clearRect(\n        0, 0, fig.canvas.width, fig.canvas.height);\n\n    fig.rubberband_context.strokeRect(min_x, min_y, width, height);\n}\n\nmpl.figure.prototype.handle_figure_label = function(fig, msg) {\n    // Updates the figure title.\n    fig.header.textContent = msg['label'];\n}\n\nmpl.figure.prototype.handle_cursor = function(fig, msg) {\n    var cursor = msg['cursor'];\n    switch(cursor)\n    {\n    case 0:\n        cursor = 'pointer';\n        break;\n    case 1:\n        cursor = 'default';\n        break;\n    case 2:\n        cursor = 'crosshair';\n        break;\n    case 3:\n        cursor = 'move';\n        break;\n    }\n    fig.rubberband_canvas.style.cursor = cursor;\n}\n\nmpl.figure.prototype.handle_message = function(fig, msg) {\n    fig.message.textContent = msg['message'];\n}\n\nmpl.figure.prototype.handle_draw = function(fig, msg) {\n    // Request the server to send over a new figure.\n    fig.send_draw_message();\n}\n\nmpl.figure.prototype.handle_image_mode = function(fig, msg) {\n    fig.image_mode = msg['mode'];\n}\n\nmpl.figure.prototype.updated_canvas_event = function() {\n    // Called whenever the canvas gets updated.\n    this.send_message(\"ack\", {});\n}\n\n// A function to construct a web socket function for onmessage handling.\n// Called in the figure constructor.\nmpl.figure.prototype._make_on_message_function = function(fig) {\n    return function socket_on_message(evt) {\n        if (evt.data instanceof Blob) {\n            /* FIXME: We get \"Resource interpreted as Image but\n             * transferred with MIME type text/plain:\" errors on\n             * Chrome.  But how to set the MIME type?  It doesn't seem\n             * to be part of the websocket stream */\n            evt.data.type = \"image/png\";\n\n            /* Free the memory for the previous frames */\n            if (fig.imageObj.src) {\n                (window.URL || window.webkitURL).revokeObjectURL(\n                    fig.imageObj.src);\n            }\n\n            fig.imageObj.src = (window.URL || window.webkitURL).createObjectURL(\n                evt.data);\n            fig.updated_canvas_event();\n            fig.waiting = false;\n            return;\n        }\n        else if (typeof evt.data === 'string' && evt.data.slice(0, 21) == \"data:image/png;base64\") {\n            fig.imageObj.src = evt.data;\n            fig.updated_canvas_event();\n            fig.waiting = false;\n            return;\n        }\n\n        var msg = JSON.parse(evt.data);\n        var msg_type = msg['type'];\n\n        // Call the  \"handle_{type}\" callback, which takes\n        // the figure and JSON message as its only arguments.\n        try {\n            var callback = fig[\"handle_\" + msg_type];\n        } catch (e) {\n            console.log(\"No handler for the '\" + msg_type + \"' message type: \", msg);\n            return;\n        }\n\n        if (callback) {\n            try {\n                // console.log(\"Handling '\" + msg_type + \"' message: \", msg);\n                callback(fig, msg);\n            } catch (e) {\n                console.log(\"Exception inside the 'handler_\" + msg_type + \"' callback:\", e, e.stack, msg);\n            }\n        }\n    };\n}\n\n// from http://stackoverflow.com/questions/1114465/getting-mouse-location-in-canvas\nmpl.findpos = function(e) {\n    //this section is from http://www.quirksmode.org/js/events_properties.html\n    var targ;\n    if (!e)\n        e = window.event;\n    if (e.target)\n        targ = e.target;\n    else if (e.srcElement)\n        targ = e.srcElement;\n    if (targ.nodeType == 3) // defeat Safari bug\n        targ = targ.parentNode;\n\n    // jQuery normalizes the pageX and pageY\n    // pageX,Y are the mouse positions relative to the document\n    // offset() returns the position of the element relative to the document\n    var x = e.pageX - $(targ).offset().left;\n    var y = e.pageY - $(targ).offset().top;\n\n    return {\"x\": x, \"y\": y};\n};\n\n/*\n * return a copy of an object with only non-object keys\n * we need this to avoid circular references\n * http://stackoverflow.com/a/24161582/3208463\n */\nfunction simpleKeys (original) {\n  return Object.keys(original).reduce(function (obj, key) {\n    if (typeof original[key] !== 'object')\n        obj[key] = original[key]\n    return obj;\n  }, {});\n}\n\nmpl.figure.prototype.mouse_event = function(event, name) {\n    var canvas_pos = mpl.findpos(event)\n\n    if (name === 'button_press')\n    {\n        this.canvas.focus();\n        this.canvas_div.focus();\n    }\n\n    var x = canvas_pos.x * mpl.ratio;\n    var y = canvas_pos.y * mpl.ratio;\n\n    this.send_message(name, {x: x, y: y, button: event.button,\n                             step: event.step,\n                             guiEvent: simpleKeys(event)});\n\n    /* This prevents the web browser from automatically changing to\n     * the text insertion cursor when the button is pressed.  We want\n     * to control all of the cursor setting manually through the\n     * 'cursor' event from matplotlib */\n    event.preventDefault();\n    return false;\n}\n\nmpl.figure.prototype._key_event_extra = function(event, name) {\n    // Handle any extra behaviour associated with a key event\n}\n\nmpl.figure.prototype.key_event = function(event, name) {\n\n    // Prevent repeat events\n    if (name == 'key_press')\n    {\n        if (event.which === this._key)\n            return;\n        else\n            this._key = event.which;\n    }\n    if (name == 'key_release')\n        this._key = null;\n\n    var value = '';\n    if (event.ctrlKey && event.which != 17)\n        value += \"ctrl+\";\n    if (event.altKey && event.which != 18)\n        value += \"alt+\";\n    if (event.shiftKey && event.which != 16)\n        value += \"shift+\";\n\n    value += 'k';\n    value += event.which.toString();\n\n    this._key_event_extra(event, name);\n\n    this.send_message(name, {key: value,\n                             guiEvent: simpleKeys(event)});\n    return false;\n}\n\nmpl.figure.prototype.toolbar_button_onclick = function(name) {\n    if (name == 'download') {\n        this.handle_save(this, null);\n    } else {\n        this.send_message(\"toolbar_button\", {name: name});\n    }\n};\n\nmpl.figure.prototype.toolbar_button_onmouseover = function(tooltip) {\n    this.message.textContent = tooltip;\n};\nmpl.toolbar_items = [[\"Home\", \"Reset original view\", \"fa fa-home icon-home\", \"home\"], [\"Back\", \"Back to  previous view\", \"fa fa-arrow-left icon-arrow-left\", \"back\"], [\"Forward\", \"Forward to next view\", \"fa fa-arrow-right icon-arrow-right\", \"forward\"], [\"\", \"\", \"\", \"\"], [\"Pan\", \"Pan axes with left mouse, zoom with right\", \"fa fa-arrows icon-move\", \"pan\"], [\"Zoom\", \"Zoom to rectangle\", \"fa fa-square-o icon-check-empty\", \"zoom\"], [\"\", \"\", \"\", \"\"], [\"Download\", \"Download plot\", \"fa fa-floppy-o icon-save\", \"download\"]];\n\nmpl.extensions = [\"eps\", \"jpeg\", \"pdf\", \"png\", \"ps\", \"raw\", \"svg\", \"tif\"];\n\nmpl.default_extension = \"png\";var comm_websocket_adapter = function(comm) {\n    // Create a \"websocket\"-like object which calls the given IPython comm\n    // object with the appropriate methods. Currently this is a non binary\n    // socket, so there is still some room for performance tuning.\n    var ws = {};\n\n    ws.close = function() {\n        comm.close()\n    };\n    ws.send = function(m) {\n        //console.log('sending', m);\n        comm.send(m);\n    };\n    // Register the callback with on_msg.\n    comm.on_msg(function(msg) {\n        //console.log('receiving', msg['content']['data'], msg);\n        // Pass the mpl event to the overriden (by mpl) onmessage function.\n        ws.onmessage(msg['content']['data'])\n    });\n    return ws;\n}\n\nmpl.mpl_figure_comm = function(comm, msg) {\n    // This is the function which gets called when the mpl process\n    // starts-up an IPython Comm through the \"matplotlib\" channel.\n\n    var id = msg.content.data.id;\n    // Get hold of the div created by the display call when the Comm\n    // socket was opened in Python.\n    var element = $(\"#\" + id);\n    var ws_proxy = comm_websocket_adapter(comm)\n\n    function ondownload(figure, format) {\n        window.open(figure.imageObj.src);\n    }\n\n    var fig = new mpl.figure(id, ws_proxy,\n                           ondownload,\n                           element.get(0));\n\n    // Call onopen now - mpl needs it, as it is assuming we've passed it a real\n    // web socket which is closed, not our websocket->open comm proxy.\n    ws_proxy.onopen();\n\n    fig.parent_element = element.get(0);\n    fig.cell_info = mpl.find_output_cell(\"<div id='\" + id + \"'></div>\");\n    if (!fig.cell_info) {\n        console.error(\"Failed to find cell for figure\", id, fig);\n        return;\n    }\n\n    var output_index = fig.cell_info[2]\n    var cell = fig.cell_info[0];\n\n};\n\nmpl.figure.prototype.handle_close = function(fig, msg) {\n    var width = fig.canvas.width/mpl.ratio\n    fig.root.unbind('remove')\n\n    // Update the output cell to use the data from the current canvas.\n    fig.push_to_output();\n    var dataURL = fig.canvas.toDataURL();\n    // Re-enable the keyboard manager in IPython - without this line, in FF,\n    // the notebook keyboard shortcuts fail.\n    IPython.keyboard_manager.enable()\n    $(fig.parent_element).html('<img src=\"' + dataURL + '\" width=\"' + width + '\">');\n    fig.close_ws(fig, msg);\n}\n\nmpl.figure.prototype.close_ws = function(fig, msg){\n    fig.send_message('closing', msg);\n    // fig.ws.close()\n}\n\nmpl.figure.prototype.push_to_output = function(remove_interactive) {\n    // Turn the data on the canvas into data in the output cell.\n    var width = this.canvas.width/mpl.ratio\n    var dataURL = this.canvas.toDataURL();\n    this.cell_info[1]['text/html'] = '<img src=\"' + dataURL + '\" width=\"' + width + '\">';\n}\n\nmpl.figure.prototype.updated_canvas_event = function() {\n    // Tell IPython that the notebook contents must change.\n    IPython.notebook.set_dirty(true);\n    this.send_message(\"ack\", {});\n    var fig = this;\n    // Wait a second, then push the new image to the DOM so\n    // that it is saved nicely (might be nice to debounce this).\n    setTimeout(function () { fig.push_to_output() }, 1000);\n}\n\nmpl.figure.prototype._init_toolbar = function() {\n    var fig = this;\n\n    var nav_element = $('<div/>')\n    nav_element.attr('style', 'width: 100%');\n    this.root.append(nav_element);\n\n    // Define a callback function for later on.\n    function toolbar_event(event) {\n        return fig.toolbar_button_onclick(event['data']);\n    }\n    function toolbar_mouse_event(event) {\n        return fig.toolbar_button_onmouseover(event['data']);\n    }\n\n    for(var toolbar_ind in mpl.toolbar_items){\n        var name = mpl.toolbar_items[toolbar_ind][0];\n        var tooltip = mpl.toolbar_items[toolbar_ind][1];\n        var image = mpl.toolbar_items[toolbar_ind][2];\n        var method_name = mpl.toolbar_items[toolbar_ind][3];\n\n        if (!name) { continue; };\n\n        var button = $('<button class=\"btn btn-default\" href=\"#\" title=\"' + name + '\"><i class=\"fa ' + image + ' fa-lg\"></i></button>');\n        button.click(method_name, toolbar_event);\n        button.mouseover(tooltip, toolbar_mouse_event);\n        nav_element.append(button);\n    }\n\n    // Add the status bar.\n    var status_bar = $('<span class=\"mpl-message\" style=\"text-align:right; float: right;\"/>');\n    nav_element.append(status_bar);\n    this.message = status_bar[0];\n\n    // Add the close button to the window.\n    var buttongrp = $('<div class=\"btn-group inline pull-right\"></div>');\n    var button = $('<button class=\"btn btn-mini btn-primary\" href=\"#\" title=\"Stop Interaction\"><i class=\"fa fa-power-off icon-remove icon-large\"></i></button>');\n    button.click(function (evt) { fig.handle_close(fig, {}); } );\n    button.mouseover('Stop Interaction', toolbar_mouse_event);\n    buttongrp.append(button);\n    var titlebar = this.root.find($('.ui-dialog-titlebar'));\n    titlebar.prepend(buttongrp);\n}\n\nmpl.figure.prototype._root_extra_style = function(el){\n    var fig = this\n    el.on(\"remove\", function(){\n\tfig.close_ws(fig, {});\n    });\n}\n\nmpl.figure.prototype._canvas_extra_style = function(el){\n    // this is important to make the div 'focusable\n    el.attr('tabindex', 0)\n    // reach out to IPython and tell the keyboard manager to turn it's self\n    // off when our div gets focus\n\n    // location in version 3\n    if (IPython.notebook.keyboard_manager) {\n        IPython.notebook.keyboard_manager.register_events(el);\n    }\n    else {\n        // location in version 2\n        IPython.keyboard_manager.register_events(el);\n    }\n\n}\n\nmpl.figure.prototype._key_event_extra = function(event, name) {\n    var manager = IPython.notebook.keyboard_manager;\n    if (!manager)\n        manager = IPython.keyboard_manager;\n\n    // Check for shift+enter\n    if (event.shiftKey && event.which == 13) {\n        this.canvas_div.blur();\n        // select the cell after this one\n        var index = IPython.notebook.find_cell_index(this.cell_info[0]);\n        IPython.notebook.select(index + 1);\n    }\n}\n\nmpl.figure.prototype.handle_save = function(fig, msg) {\n    fig.ondownload(fig, null);\n}\n\n\nmpl.find_output_cell = function(html_output) {\n    // Return the cell and output element which can be found *uniquely* in the notebook.\n    // Note - this is a bit hacky, but it is done because the \"notebook_saving.Notebook\"\n    // IPython event is triggered only after the cells have been serialised, which for\n    // our purposes (turning an active figure into a static one), is too late.\n    var cells = IPython.notebook.get_cells();\n    var ncells = cells.length;\n    for (var i=0; i<ncells; i++) {\n        var cell = cells[i];\n        if (cell.cell_type === 'code'){\n            for (var j=0; j<cell.output_area.outputs.length; j++) {\n                var data = cell.output_area.outputs[j];\n                if (data.data) {\n                    // IPython >= 3 moved mimebundle to data attribute of output\n                    data = data.data;\n                }\n                if (data['text/html'] == html_output) {\n                    return [cell, data, j];\n                }\n            }\n        }\n    }\n}\n\n// Register the function which deals with the matplotlib target/channel.\n// The kernel may be null if the page has been refreshed.\nif (IPython.notebook.kernel != null) {\n    IPython.notebook.kernel.comm_manager.register_target('matplotlib', mpl.mpl_figure_comm);\n}\n",
      "text/plain": [
       "<IPython.core.display.Javascript object>"
      ]
     },
     "metadata": {},
     "output_type": "display_data"
    },
    {
     "data": {
      "text/html": [
       "<img src=\"data:image/png;base64,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\" width=\"640\">"
      ],
      "text/plain": [
       "<IPython.core.display.HTML object>"
      ]
     },
     "metadata": {},
     "output_type": "display_data"
    }
   ],
   "source": [
    "# You may wish to view the PageRank graphically.\n",
    "# This code will draw a bar chart, for each (numbered) website on the generated internet,\n",
    "# The height of each bar will be the score in the PageRank.\n",
    "# Run this code to see the PageRank for each internet you generate.\n",
    "# Hopefully you should see what you might expect\n",
    "# - there are a few clusters of important websites, but most on the internet are rubbish!\n",
    "%pylab notebook\n",
    "r = pageRank(generate_internet(100), 0.9)\n",
    "plt.bar(arange(r.shape[0]), r);"
   ]
  },
  {
   "cell_type": "code",
   "execution_count": null,
   "metadata": {
    "collapsed": true
   },
   "outputs": [],
   "source": []
  }
 ],
 "metadata": {
  "coursera": {
   "course_slug": "linear-algebra-machine-learning",
   "graded_item_id": "Sfbnp",
   "launcher_item_id": "aPxf3"
  },
  "kernelspec": {
   "display_name": "Python 3",
   "language": "python",
   "name": "python3"
  },
  "language_info": {
   "codemirror_mode": {
    "name": "ipython",
    "version": 3
   },
   "file_extension": ".py",
   "mimetype": "text/x-python",
   "name": "python",
   "nbconvert_exporter": "python",
   "pygments_lexer": "ipython3",
   "version": "3.8.12"
  }
 },
 "nbformat": 4,
 "nbformat_minor": 1
}
