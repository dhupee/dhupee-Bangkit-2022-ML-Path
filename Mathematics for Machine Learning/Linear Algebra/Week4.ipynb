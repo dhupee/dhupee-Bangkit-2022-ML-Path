{
 "cells": [
  {
   "cell_type": "code",
   "execution_count": 1,
   "metadata": {},
   "outputs": [],
   "source": [
    "import numpy as np"
   ]
  },
  {
   "cell_type": "markdown",
   "metadata": {},
   "source": [
    "## Non-square matrix multiplication\n",
    "#### 75%"
   ]
  },
  {
   "cell_type": "code",
   "execution_count": 15,
   "metadata": {},
   "outputs": [
    {
     "name": "stdout",
     "output_type": "stream",
     "text": [
      "[[2 2 0]\n",
      " [0 0 0]]\n"
     ]
    }
   ],
   "source": [
    "alpha = np.array([\n",
    "    [2],\n",
    "    [0]\n",
    "])\n",
    "\n",
    "beta = np.array([\n",
    "    [1, 1, 0]])\n",
    "\n",
    "charlie = np.dot(alpha, beta)\n",
    "print(charlie)"
   ]
  },
  {
   "cell_type": "code",
   "execution_count": 2,
   "metadata": {},
   "outputs": [
    {
     "name": "stdout",
     "output_type": "stream",
     "text": [
      "[[4 3 5]\n",
      " [5 4 1]]\n"
     ]
    }
   ],
   "source": [
    "# matrix multiplication\n",
    "\n",
    "A = np.array([\n",
    "    [1, 2, 3], \n",
    "    [4, 0, 1]])\n",
    "\n",
    "B = np.array([\n",
    "    [1, 1, 0],\n",
    "    [0, 1, 1],\n",
    "    [1, 0, 1]])\n",
    "\n",
    "# matrix C = A * B\n",
    "C = np.dot(A, B)\n",
    "print(C)"
   ]
  },
  {
   "cell_type": "code",
   "execution_count": 13,
   "metadata": {},
   "outputs": [
    {
     "name": "stdout",
     "output_type": "stream",
     "text": [
      "[[30]]\n",
      "[[ 2  4  5  6]\n",
      " [ 6 12 15 18]\n",
      " [ 4  8 10 12]\n",
      " [ 2  4  5  6]]\n"
     ]
    }
   ],
   "source": [
    "# 4x1 matrix multiplied by 1x4 matrix\n",
    "D = np.array([\n",
    "    [2, 4, 5, 6]])\n",
    "\n",
    "E = np.array([\n",
    "    [1],\n",
    "    [3],\n",
    "    [2],\n",
    "    [1]])\n",
    "\n",
    "F1 = np.dot(D, E)\n",
    "F2 = np.dot(E, D)\n",
    "print(F1)\n",
    "print(F2)\n",
    "\n",
    "\n",
    "# it's not associative, be careful"
   ]
  },
  {
   "cell_type": "code",
   "execution_count": 11,
   "metadata": {},
   "outputs": [
    {
     "name": "stdout",
     "output_type": "stream",
     "text": [
      "[[ 2  2  8 -4]\n",
      " [-6  0  0  6]\n",
      " [ 0  1  4 -1]]\n"
     ]
    }
   ],
   "source": [
    "# 4x1 matrix multiplied by 1x4 matrix\n",
    "G = np.array([\n",
    "    [2, -1],\n",
    "    [0, 3],\n",
    "    [1, 0]])\n",
    "\n",
    "H = np.array([\n",
    "    [0, 1, 4, -1],\n",
    "    [-2, 0, 0, 2]])\n",
    "\n",
    "I = np.dot(G ,H)\n",
    "print(I)"
   ]
  },
  {
   "cell_type": "code",
   "execution_count": 12,
   "metadata": {},
   "outputs": [
    {
     "name": "stdout",
     "output_type": "stream",
     "text": [
      "[[1 2 3]\n",
      " [4 5 6]]\n"
     ]
    }
   ],
   "source": [
    "# 2x2 matrix multiplied by 3x2 matrix\n",
    "\n",
    "J = np.array([\n",
    "    [1, 0],\n",
    "    [0, 1]])\n",
    "\n",
    "K = np.array([\n",
    "    [1, 2, 3],\n",
    "    [4, 5, 6]])\n",
    "\n",
    "L = np.dot(J, K)\n",
    "print(L)"
   ]
  },
  {
   "cell_type": "code",
   "execution_count": 24,
   "metadata": {},
   "outputs": [
    {
     "name": "stdout",
     "output_type": "stream",
     "text": [
      "[[2 1 3]\n",
      " [3 3 0]\n",
      " [6 6 6]\n",
      " [1 2 7]] \n",
      "\n",
      "[[2 3 6 1]\n",
      " [1 3 6 2]\n",
      " [3 0 6 7]]\n"
     ]
    }
   ],
   "source": [
    "# random 4x3 matrix, integer numbers only\n",
    "M = np.random.randint(0, 10, (4, 3))\n",
    "print(M, '\\n')\n",
    "\n",
    "# transpose of M\n",
    "N = np.transpose(M)\n",
    "print(N)"
   ]
  },
  {
   "cell_type": "markdown",
   "metadata": {},
   "source": [
    "---\n",
    "\n",
    "##  Using non-square matrices to do a projection"
   ]
  },
  {
   "cell_type": "code",
   "execution_count": 17,
   "metadata": {},
   "outputs": [
    {
     "ename": "ValueError",
     "evalue": "shapes (3,1) and (3,1) not aligned: 1 (dim 1) != 3 (dim 0)",
     "output_type": "error",
     "traceback": [
      "\u001b[1;31m---------------------------------------------------------------------------\u001b[0m",
      "\u001b[1;31mValueError\u001b[0m                                Traceback (most recent call last)",
      "\u001b[1;32mC:\\Users\\ARYAWI~1\\AppData\\Local\\Temp/ipykernel_9616/1998664283.py\u001b[0m in \u001b[0;36m<module>\u001b[1;34m\u001b[0m\n\u001b[0;32m     13\u001b[0m \u001b[1;33m\u001b[0m\u001b[0m\n\u001b[0;32m     14\u001b[0m \u001b[1;31m# projection of s onto r\u001b[0m\u001b[1;33m\u001b[0m\u001b[1;33m\u001b[0m\u001b[1;33m\u001b[0m\u001b[0m\n\u001b[1;32m---> 15\u001b[1;33m \u001b[0mp\u001b[0m \u001b[1;33m=\u001b[0m \u001b[0mnp\u001b[0m\u001b[1;33m.\u001b[0m\u001b[0mdot\u001b[0m\u001b[1;33m(\u001b[0m\u001b[0ms\u001b[0m\u001b[1;33m,\u001b[0m \u001b[0mr\u001b[0m\u001b[1;33m)\u001b[0m\u001b[1;33m\u001b[0m\u001b[1;33m\u001b[0m\u001b[0m\n\u001b[0m",
      "\u001b[1;32m~\\anaconda3\\envs\\DH-env\\lib\\site-packages\\numpy\\core\\overrides.py\u001b[0m in \u001b[0;36mdot\u001b[1;34m(*args, **kwargs)\u001b[0m\n",
      "\u001b[1;31mValueError\u001b[0m: shapes (3,1) and (3,1) not aligned: 1 (dim 1) != 3 (dim 0)"
     ]
    }
   ],
   "source": [
    "# matrix projection\n",
    "\n",
    "# direction s\n",
    "s = np.array([\n",
    "    [4/13],\n",
    "    [-3/13],\n",
    "    [-12/13]])\n",
    "\n",
    "r = np.array([\n",
    "    [6],\n",
    "    [2],\n",
    "    [3]])\n",
    "\n",
    "# projection of s onto r\n",
    "p = np.dot(s, r)"
   ]
  }
 ],
 "metadata": {
  "interpreter": {
   "hash": "153cfa34b2fd7817ab0a10fa400c7428ae4a59674a5d86ff9506fd9606302b0e"
  },
  "kernelspec": {
   "display_name": "Python 3.8.12 ('DH-env')",
   "language": "python",
   "name": "python3"
  },
  "language_info": {
   "codemirror_mode": {
    "name": "ipython",
    "version": 3
   },
   "file_extension": ".py",
   "mimetype": "text/x-python",
   "name": "python",
   "nbconvert_exporter": "python",
   "pygments_lexer": "ipython3",
   "version": "3.8.12"
  },
  "orig_nbformat": 4
 },
 "nbformat": 4,
 "nbformat_minor": 2
}
