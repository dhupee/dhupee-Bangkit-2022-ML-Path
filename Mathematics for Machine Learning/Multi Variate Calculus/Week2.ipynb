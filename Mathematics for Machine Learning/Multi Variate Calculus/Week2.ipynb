{
 "cells": [
  {
   "cell_type": "code",
   "execution_count": 18,
   "metadata": {},
   "outputs": [],
   "source": [
    "import numpy as np\n",
    "from sympy import *"
   ]
  },
  {
   "cell_type": "code",
   "execution_count": 19,
   "metadata": {},
   "outputs": [
    {
     "data": {
      "text/latex": [
       "$\\displaystyle e^{y z^{2}} \\cos{\\left(x \\right)}$"
      ],
      "text/plain": [
       "exp(y*z**2)*cos(x)"
      ]
     },
     "execution_count": 19,
     "metadata": {},
     "output_type": "execute_result"
    }
   ],
   "source": [
    "# symbols (x, y, z)\n",
    "x, y, z = symbols('x y z')\n",
    "\n",
    "# f(x, y, z) = sin(x)*e^(y*z^2)\n",
    "f = sin(x)*exp(y*z**2)\n",
    "\n",
    "# diff in respect to each variable\n",
    "dfdx = f.diff(x)\n",
    "dfdy = f.diff(y)\n",
    "dfdz = f.diff(z)\n",
    "\n",
    "# output\n",
    "dfdx"
   ]
  },
  {
   "cell_type": "code",
   "execution_count": 20,
   "metadata": {},
   "outputs": [
    {
     "data": {
      "text/latex": [
       "$\\displaystyle z^{2} e^{y z^{2}} \\sin{\\left(x \\right)}$"
      ],
      "text/plain": [
       "z**2*exp(y*z**2)*sin(x)"
      ]
     },
     "execution_count": 20,
     "metadata": {},
     "output_type": "execute_result"
    }
   ],
   "source": [
    "dfdy\n"
   ]
  },
  {
   "cell_type": "code",
   "execution_count": 21,
   "metadata": {},
   "outputs": [
    {
     "data": {
      "text/latex": [
       "$\\displaystyle 2 y z e^{y z^{2}} \\sin{\\left(x \\right)}$"
      ],
      "text/plain": [
       "2*y*z*exp(y*z**2)*sin(x)"
      ]
     },
     "execution_count": 21,
     "metadata": {},
     "output_type": "execute_result"
    }
   ],
   "source": [
    "dfdz"
   ]
  },
  {
   "cell_type": "markdown",
   "metadata": {},
   "source": [
    "---\n",
    "## Practicing partial differentiation"
   ]
  },
  {
   "cell_type": "code",
   "execution_count": 22,
   "metadata": {},
   "outputs": [
    {
     "data": {
      "text/latex": [
       "$\\displaystyle 3 \\pi x^{2} + y^{2}$"
      ],
      "text/plain": [
       "3*pi*x**2 + y**2"
      ]
     },
     "execution_count": 22,
     "metadata": {},
     "output_type": "execute_result"
    }
   ],
   "source": [
    "# symbols(x, y)\n",
    "x, y, m = symbols('x y m')\n",
    "\n",
    "# f(x, y) = pi*x^3 + x*y^2 +m*y^4\n",
    "f = pi*x**3 + x*y**2 + m*y**4\n",
    "\n",
    "dfdx = f.diff(x)\n",
    "dfdy = f.diff(y)\n",
    "\n",
    "dfdx"
   ]
  },
  {
   "cell_type": "code",
   "execution_count": 23,
   "metadata": {},
   "outputs": [
    {
     "data": {
      "text/latex": [
       "$\\displaystyle 4 m y^{3} + 2 x y$"
      ],
      "text/plain": [
       "4*m*y**3 + 2*x*y"
      ]
     },
     "execution_count": 23,
     "metadata": {},
     "output_type": "execute_result"
    }
   ],
   "source": [
    "dfdy"
   ]
  },
  {
   "cell_type": "code",
   "execution_count": 24,
   "metadata": {},
   "outputs": [
    {
     "data": {
      "text/latex": [
       "$\\displaystyle 2 x y + z^{2}$"
      ],
      "text/plain": [
       "2*x*y + z**2"
      ]
     },
     "execution_count": 24,
     "metadata": {},
     "output_type": "execute_result"
    }
   ],
   "source": [
    "# symbols(x, y, z)\n",
    "x, y, z = symbols('x y z')\n",
    "\n",
    "# f(x, y, z) = x^2*y + y^2*z + z^2*x\n",
    "f = x**2*y + y**2*z + z**2*x\n",
    "\n",
    "dfdx = f.diff(x)\n",
    "dfdy = f.diff(y)\n",
    "dfdz = f.diff(z)\n",
    "\n",
    "dfdx"
   ]
  },
  {
   "cell_type": "code",
   "execution_count": 25,
   "metadata": {},
   "outputs": [
    {
     "data": {
      "text/latex": [
       "$\\displaystyle x^{2} + 2 y z$"
      ],
      "text/plain": [
       "x**2 + 2*y*z"
      ]
     },
     "execution_count": 25,
     "metadata": {},
     "output_type": "execute_result"
    }
   ],
   "source": [
    "dfdy"
   ]
  },
  {
   "cell_type": "code",
   "execution_count": 26,
   "metadata": {},
   "outputs": [
    {
     "data": {
      "text/latex": [
       "$\\displaystyle 2 x z + y^{2}$"
      ],
      "text/plain": [
       "2*x*z + y**2"
      ]
     },
     "execution_count": 26,
     "metadata": {},
     "output_type": "execute_result"
    }
   ],
   "source": [
    "dfdz"
   ]
  },
  {
   "cell_type": "code",
   "execution_count": 27,
   "metadata": {},
   "outputs": [
    {
     "data": {
      "text/latex": [
       "$\\displaystyle 2 z^{2} e^{2 x} \\sin{\\left(y \\right)} + e^{x} e^{y} \\cos{\\left(z \\right)}$"
      ],
      "text/plain": [
       "2*z**2*exp(2*x)*sin(y) + exp(x)*exp(y)*cos(z)"
      ]
     },
     "execution_count": 27,
     "metadata": {},
     "output_type": "execute_result"
    }
   ],
   "source": [
    "# symbols(x, y, z)\n",
    "x, y, z = symbols('x y z')\n",
    "\n",
    "# f(x) = e^2x sin(y)z^2+cos(z)e^x*e^y\n",
    "f = exp(2*x)*(sin(y)*z**2) + cos(z)*exp(x)*exp(y)\n",
    "\n",
    "dfdx = f.diff(x)\n",
    "dfdy = f.diff(y)\n",
    "dfdz = f.diff(z)\n",
    "\n",
    "dfdx"
   ]
  },
  {
   "cell_type": "code",
   "execution_count": 28,
   "metadata": {},
   "outputs": [
    {
     "data": {
      "text/latex": [
       "$\\displaystyle z^{2} e^{2 x} \\cos{\\left(y \\right)} + e^{x} e^{y} \\cos{\\left(z \\right)}$"
      ],
      "text/plain": [
       "z**2*exp(2*x)*cos(y) + exp(x)*exp(y)*cos(z)"
      ]
     },
     "execution_count": 28,
     "metadata": {},
     "output_type": "execute_result"
    }
   ],
   "source": [
    "dfdy"
   ]
  },
  {
   "cell_type": "code",
   "execution_count": 29,
   "metadata": {},
   "outputs": [
    {
     "data": {
      "text/latex": [
       "$\\displaystyle 2 z e^{2 x} \\sin{\\left(y \\right)} - e^{x} e^{y} \\sin{\\left(z \\right)}$"
      ],
      "text/plain": [
       "2*z*exp(2*x)*sin(y) - exp(x)*exp(y)*sin(z)"
      ]
     },
     "execution_count": 29,
     "metadata": {},
     "output_type": "execute_result"
    }
   ],
   "source": [
    "dfdz"
   ]
  },
  {
   "cell_type": "code",
   "execution_count": 31,
   "metadata": {},
   "outputs": [
    {
     "data": {
      "text/latex": [
       "$\\displaystyle - \\frac{\\sqrt{t} \\cos{\\left(t \\right)}}{\\sin^{2}{\\left(t \\right)}} + \\frac{1}{2 \\sqrt{t} \\sin{\\left(t \\right)}}$"
      ],
      "text/plain": [
       "-sqrt(t)*cos(t)/sin(t)**2 + 1/(2*sqrt(t)*sin(t))"
      ]
     },
     "execution_count": 31,
     "metadata": {},
     "output_type": "execute_result"
    }
   ],
   "source": [
    "# symbols(x, y, t)\n",
    "x, y, t = symbols('x y t')\n",
    "\n",
    "# f(x, y) = sqrt(x)/y\n",
    "f = sqrt(t)/sin(t)\n",
    "\n",
    "dfdt = f.diff(t)\n",
    "dfdt\n"
   ]
  },
  {
   "cell_type": "code",
   "execution_count": 43,
   "metadata": {},
   "outputs": [
    {
     "data": {
      "text/latex": [
       "$\\displaystyle 4 t e^{2 t^{2}} \\sin{\\left(t \\right)} \\cos{\\left(t - 1 \\right)} - e^{2 t^{2}} \\sin{\\left(t \\right)} \\sin{\\left(t - 1 \\right)} + e^{2 t^{2}} \\cos{\\left(t \\right)} \\cos{\\left(t - 1 \\right)}$"
      ],
      "text/plain": [
       "4*t*exp(2*t**2)*sin(t)*cos(t - 1) - exp(2*t**2)*sin(t)*sin(t - 1) + exp(2*t**2)*cos(t)*cos(t - 1)"
      ]
     },
     "execution_count": 43,
     "metadata": {},
     "output_type": "execute_result"
    }
   ],
   "source": [
    "# symbols (x, y, z, t)\n",
    "x, y, z, t = symbols('x y z t')\n",
    "\n",
    "# f(x, y, z,) = cos(x)sin(y)e^2z\n",
    "f = cos(x)*sin(y)*exp(2*z)\n",
    "\n",
    "f = f.subs({x: t-1, y: t, z: t**2})\n",
    "dfdt = f.diff(t)\n",
    "dfdt"
   ]
  },
  {
   "cell_type": "markdown",
   "metadata": {},
   "source": [
    "---\n",
    "## Calculating the Jacobian"
   ]
  },
  {
   "cell_type": "code",
   "execution_count": 44,
   "metadata": {},
   "outputs": [
    {
     "data": {
      "text/plain": [
       "[2*x*y + 0.75*y, x**2 + 0.75*x]"
      ]
     },
     "execution_count": 44,
     "metadata": {},
     "output_type": "execute_result"
    }
   ],
   "source": [
    "# symbols (x, y)\n",
    "x, y = symbols('x y')\n",
    "\n",
    "# f(x,y) = x^2y + 3/4xy + 10\n",
    "f = x**2*y + 3/4*x*y + 10\n",
    "\n",
    "# calculate jacobian row vector j\n",
    "j = [f.diff(x), f.diff(y)]\n",
    "j"
   ]
  },
  {
   "cell_type": "code",
   "execution_count": 49,
   "metadata": {},
   "outputs": [
    {
     "name": "stdout",
     "output_type": "stream",
     "text": [
      "[exp(x)*cos(y) + exp(3*y), 3*x*exp(3*y) - exp(x)*sin(y)]\n"
     ]
    }
   ],
   "source": [
    "# symbols (x, y)\n",
    "x, y = symbols('x y')\n",
    "\n",
    "# f(x,y)) = e^xcos(y)+ xe^(3y)-2\n",
    "f = exp(x)*cos(y) + x*exp(3*y) - 2\n",
    "\n",
    "# calculate jacobian row vector j\n",
    "j = [f.diff(x), f.diff(y)]\n",
    "\n",
    "# print in markdown\n",
    "print(j)"
   ]
  },
  {
   "cell_type": "code",
   "execution_count": 50,
   "metadata": {},
   "outputs": [
    {
     "name": "stdout",
     "output_type": "stream",
     "text": [
      "[2*x*y**2*z**2 + exp(x)*cos(y), 2*x**2*y*z**2 - exp(x)*sin(y), 2*x**2*y**2*z]\n"
     ]
    }
   ],
   "source": [
    "# symbols (x, y, z)\n",
    "x, y, z = symbols('x y z')\n",
    "\n",
    "# f(x, y, z) = e^xcos(y) + x^2y^2z^2\n",
    "f = exp(x)*cos(y) + (x**2)*(y**2)*(z**2)\n",
    "\n",
    "# calculate jacobian row vector j\n",
    "j = [f.diff(x), f.diff(y), f.diff(z)]\n",
    "print(j)"
   ]
  },
  {
   "cell_type": "code",
   "execution_count": 53,
   "metadata": {},
   "outputs": [
    {
     "name": "stdout",
     "output_type": "stream",
     "text": [
      "[0, 3, 4]\n"
     ]
    }
   ],
   "source": [
    "# symbols (x, y, z)\n",
    "x, y, z = symbols('x y z')\n",
    "\n",
    "# f(x, y, z) = x^2 + 3(e^y)(e^z)+cos(x)sin(z)\n",
    "f = x**2 + 3*(exp(y)*exp(z)) + cos(x)*sin(z)\n",
    "\n",
    "# calculate jacobian row vector j and evaluate at (0, 0, 0)\n",
    "j = [f.diff(x), f.diff(y), f.diff(z)]\n",
    "\n",
    "# substitute values for x, y, z with 0\n",
    "j = [i.subs({x: 0, y: 0, z: 0}) for i in j]\n",
    "print(j)"
   ]
  },
  {
   "cell_type": "code",
   "execution_count": 56,
   "metadata": {},
   "outputs": [
    {
     "name": "stdout",
     "output_type": "stream",
     "text": [
      "[1 0 0]\n"
     ]
    }
   ],
   "source": [
    "# symbols (x, y, z)\n",
    "x, y, z = symbols('x y z')\n",
    "\n",
    "# f(x, y, z) = x(e^y)cos(z) + 5x^2sin(y)e^z\n",
    "f = x*(exp(y)*cos(z)) + 5*(x**2)*sin(y)*exp(z)\n",
    "\n",
    "# calculate jacobian row vector j and evaluate at (0, 0, 0)\n",
    "j = [f.diff(x), f.diff(y), f.diff(z)]\n",
    "\n",
    "# substitute values for x, y, z with 0\n",
    "j = [i.subs({x: 0, y: 0, z: 0}) for i in j]\n",
    "\n",
    "# convert to numpy array\n",
    "j = np.array(j)\n",
    "print(j)"
   ]
  },
  {
   "cell_type": "markdown",
   "metadata": {},
   "source": [
    "---\n",
    "\n",
    "## application on jacobian factorization"
   ]
  },
  {
   "cell_type": "code",
   "execution_count": 58,
   "metadata": {},
   "outputs": [
    {
     "name": "stdout",
     "output_type": "stream",
     "text": [
      "[[1 -2]\n",
      " [-2 3]]\n"
     ]
    }
   ],
   "source": [
    "# symbols (x, y)\n",
    "\n",
    "u = x - 2*y\n",
    "v = 3*y - 2*x\n",
    "\n",
    "# calculate jacobian row vector j\n",
    "ju_x = u.diff(x)\n",
    "ju_y = u.diff(y)\n",
    "jv_x = v.diff(x)\n",
    "jv_y = v.diff(y)\n",
    "\n",
    "# convert to 2x2 numpy array\n",
    "j = np.array([[ju_x, ju_y], [jv_x, jv_y]])\n",
    "print(j)"
   ]
  },
  {
   "cell_type": "code",
   "execution_count": 59,
   "metadata": {},
   "outputs": [
    {
     "name": "stdout",
     "output_type": "stream",
     "text": [
      "[[2*x -2*y]\n",
      " [2*y 2*x]]\n"
     ]
    }
   ],
   "source": [
    "# symbols (x, y)\n",
    "\n",
    "u = x**2 - y**2\n",
    "v = 2*x*y\n",
    "\n",
    "# calculate jacobian row vector j\n",
    "ju_x = u.diff(x)\n",
    "ju_y = u.diff(y)\n",
    "jv_x = v.diff(x)\n",
    "jv_y = v.diff(y)\n",
    "\n",
    "# convert to 2x2 numpy array\n",
    "j = np.array([[ju_x, ju_y], [jv_x, jv_y]])\n",
    "print(j)"
   ]
  },
  {
   "cell_type": "code",
   "execution_count": 66,
   "metadata": {},
   "outputs": [
    {
     "name": "stdout",
     "output_type": "stream",
     "text": [
      "[[2 3 0]\n",
      " [0 0 1]\n",
      " [1 1 1]]\n"
     ]
    }
   ],
   "source": [
    "# symbols (x, y)\n",
    "x, y, z = symbols('x y z')\n",
    "\n",
    "u = 2*x + 3*y\n",
    "v = cos(x)*sin(z)\n",
    "w = exp(x)*exp(y)*exp(z)\n",
    "\n",
    "# calculate jacobian row vector j\n",
    "ju_x = u.diff(x)\n",
    "ju_y = u.diff(y)\n",
    "ju_z = u.diff(z)\n",
    "jv_x = v.diff(x)\n",
    "jv_y = v.diff(y)\n",
    "jv_z = v.diff(z)\n",
    "jw_x = w.diff(x)\n",
    "jw_y = w.diff(y)\n",
    "jw_z = w.diff(z)\n",
    "\n",
    "# convert to 2x2 numpy array\n",
    "j = np.array([[ju_x, ju_y], [jv_x, jv_y]])\n",
    "print(j)"
   ]
  },
  {
   "cell_type": "code",
   "execution_count": 64,
   "metadata": {},
   "outputs": [
    {
     "name": "stdout",
     "output_type": "stream",
     "text": [
      "[[a b]\n",
      " [c d]]\n"
     ]
    }
   ],
   "source": [
    "# symbols (a, b, c, d, x, y), where a, b, c, d are constants\n",
    "a, b, c, d, x, y = symbols('a b c d x y')\n",
    "\n",
    "u = a*x + b*y\n",
    "v = c*x + d*y\n",
    "\n",
    "# calculate jacobian row vector j\n",
    "ju_x = u.diff(x)\n",
    "ju_y = u.diff(y)\n",
    "jv_x = v.diff(x)\n",
    "jv_y = v.diff(y)\n",
    "\n",
    "# convert to 2x2 numpy array\n",
    "j = np.array([[ju_x, ju_y], [jv_x, jv_y]])\n",
    "print(j)"
   ]
  },
  {
   "cell_type": "code",
   "execution_count": 76,
   "metadata": {},
   "outputs": [
    {
     "name": "stdout",
     "output_type": "stream",
     "text": [
      "[[0 0 1]\n",
      " [0 0 2]\n",
      " [0 0 1]]\n"
     ]
    }
   ],
   "source": [
    "# symbols (x, y)\n",
    "x, y, z = symbols('x y z')\n",
    "\n",
    "u = 9*(x**2)*(y**2) + z*exp(x)\n",
    "v = x*y+(x**2)*(y**3)+2*z\n",
    "w = cos(x)*sin(z)*exp(y)\n",
    "\n",
    "# calculate jacobian row vector j\n",
    "ju_x = u.diff(x)\n",
    "ju_y = u.diff(y)\n",
    "ju_z = u.diff(z)\n",
    "jv_x = v.diff(x)\n",
    "jv_y = v.diff(y)\n",
    "jv_z = v.diff(z)\n",
    "jw_x = w.diff(x)\n",
    "jw_y = w.diff(y)\n",
    "jw_z = w.diff(z)\n",
    "\n",
    "# substitute values for x, y, z with 0\n",
    "j = np.array([\n",
    "    [\n",
    "    ju_x.subs({x: 0, y: 0, z: 0}),\n",
    "    ju_y.subs({x: 0, y: 0, z: 0}),\n",
    "    ju_z.subs({x: 0, y: 0, z: 0})\n",
    "    ],\n",
    "\n",
    "    [\n",
    "    jv_x.subs({x: 0, y: 0, z: 0}),\n",
    "    jv_y.subs({x: 0, y: 0, z: 0}),\n",
    "    jv_z.subs({x: 0, y: 0, z: 0})\n",
    "    ],\n",
    "    \n",
    "    [\n",
    "    jw_x.subs({x: 0, y: 0, z: 0}),\n",
    "    jw_y.subs({x: 0, y: 0, z: 0}),\n",
    "    jw_z.subs({x: 0, y: 0, z: 0})\n",
    "    ]\n",
    "])\n",
    "\n",
    "print(j)"
   ]
  },
  {
   "cell_type": "code",
   "execution_count": 72,
   "metadata": {},
   "outputs": [
    {
     "name": "stdout",
     "output_type": "stream",
     "text": [
      "[[sin(phi)*cos(theta) -r*sin(phi)*sin(theta) r*cos(phi)*cos(theta)]\n",
      " [sin(phi)*sin(theta) r*sin(phi)*cos(theta) r*sin(theta)*cos(phi)]\n",
      " [cos(phi) 0 -r*sin(phi)]]\n"
     ]
    }
   ],
   "source": [
    "# symbols (r, theta, phi)\n",
    "r, theta, phi, = symbols('r theta phi')\n",
    "\n",
    "u = r*cos(theta)*sin(phi)\n",
    "v = r*sin(theta)*sin(phi)\n",
    "w = r*cos(phi)\n",
    "\n",
    "# calculate jacobian row vector j\n",
    "ju_r = u.diff(r)\n",
    "ju_theta = u.diff(theta)\n",
    "ju_phi = u.diff(phi)\n",
    "jv_rju_r = v.diff(r)\n",
    "jv_thetaju_theta = v.diff(theta)\n",
    "jv_phi = v.diff(phi)\n",
    "jw_rju_r = w.diff(r)\n",
    "jw_thetaju_theta = w.diff(theta)\n",
    "jw_phi = w.diff(phi)\n",
    "\n",
    "# convert to 3x3 numpy array\n",
    "j = np.array([\n",
    "    [ju_r, ju_theta, ju_phi\n",
    "],\n",
    "    [jv_rju_r, jv_thetaju_theta, jv_phi\n",
    "],\n",
    "    [jw_rju_r, jw_thetaju_theta, jw_phi\n",
    "]\n",
    "])\n",
    "\n",
    "print(j)"
   ]
  },
  {
   "cell_type": "markdown",
   "metadata": {},
   "source": [
    "---\n",
    "## Hessian Matrix"
   ]
  },
  {
   "cell_type": "code",
   "execution_count": 93,
   "metadata": {},
   "outputs": [
    {
     "name": "stdout",
     "output_type": "stream",
     "text": [
      "[2*x, 2*y]\n"
     ]
    }
   ],
   "source": [
    "# symbols (x, y, z)\n",
    "x, y, = symbols('x y')\n",
    "\n",
    "# f(x) = x^2 + y^2\n",
    "f = x**2 + y**2\n",
    "\n",
    "# calculate jacobian row vector j\n",
    "ju_x = f.diff(x)\n",
    "ju_y = f.diff(y)\n",
    "\n",
    "# convert to 2x2 numpy array\n",
    "j = [ju_x, ju_y]\n",
    "print(j)\n",
    "\n"
   ]
  },
  {
   "cell_type": "code",
   "execution_count": 95,
   "metadata": {},
   "outputs": [
    {
     "name": "stdout",
     "output_type": "stream",
     "text": [
      "[2*x*y*z, x**2*z, x**2*y]\n",
      "[[2*y*z 2*x*z 2*x*y]\n",
      " [2*x*z 0 x**2]\n",
      " [2*x*y x**2 0]]\n"
     ]
    }
   ],
   "source": [
    "import numpy as np\n",
    "from sympy import *\n",
    "\n",
    "# symbols (x, y, z)\n",
    "x, y, z = symbols('x y z')\n",
    "\n",
    "f = (x**2)*y*z\n",
    "\n",
    "# calculate jacobian row vector j\n",
    "ju_x = f.diff(x)\n",
    "ju_y = f.diff(y)\n",
    "ju_z = f.diff(z)\n",
    "\n",
    "j = [ju_x, ju_y, ju_z]\n",
    "print(j, '\\n')\n",
    "\n",
    "# calculate hessian matrix h in respect to x, y, z\n",
    "h = np.array([\n",
    "    [\n",
    "    ju_x.diff(x),\n",
    "    ju_x.diff(y),\n",
    "    ju_x.diff(z)\n",
    "    ],\n",
    "\n",
    "    [\n",
    "    ju_y.diff(x),\n",
    "    ju_y.diff(y),\n",
    "    ju_y.diff(z)\n",
    "    ],\n",
    "\n",
    "    [\n",
    "    ju_z.diff(x),\n",
    "    ju_z.diff(y),\n",
    "    ju_z.diff(z)\n",
    "    ]\n",
    "])\n",
    "print(h, '\\n')"
   ]
  },
  {
   "cell_type": "code",
   "execution_count": 96,
   "metadata": {},
   "outputs": [
    {
     "name": "stdout",
     "output_type": "stream",
     "text": [
      "[[6*x*y 3*x**2]\n",
      " [3*x**2 0]]\n"
     ]
    }
   ],
   "source": [
    "# symbols (x, y)\n",
    "x, y = symbols('x y')\n",
    "\n",
    "# f(x) = (x^3)y + x +2y\n",
    "f = (x**3)*y + x + 2*y\n",
    "\n",
    "# calculate jacobian row vector j\n",
    "ju_x = f.diff(x)\n",
    "ju_y = f.diff(y)\n",
    "\n",
    "# calculate hessian matrix h in respect to x, y\n",
    "h = np.array([\n",
    "    [\n",
    "    ju_x.diff(x),\n",
    "    ju_x.diff(y)\n",
    "    ],\n",
    "\n",
    "    [\n",
    "    ju_y.diff(x),\n",
    "    ju_y.diff(y)\n",
    "    ]\n",
    "])\n",
    "\n",
    "print(h)"
   ]
  },
  {
   "cell_type": "code",
   "execution_count": 97,
   "metadata": {},
   "outputs": [
    {
     "name": "stdout",
     "output_type": "stream",
     "text": [
      "[[exp(x)*cos(y) -exp(x)*sin(y)]\n",
      " [-exp(x)*sin(y) -exp(x)*cos(y)]]\n"
     ]
    }
   ],
   "source": [
    "# symbols (x, y)\n",
    "x, y = symbols('x y')\n",
    "\n",
    "# f(x) = (e^x) * cos(y)\n",
    "f = exp(x)*cos(y)\n",
    "\n",
    "# calculate jacobian row vector j\n",
    "ju_x = f.diff(x)\n",
    "ju_y = f.diff(y)\n",
    "\n",
    "# calculate hessian matrix h in respect to x, y\n",
    "h = np.array([\n",
    "    [\n",
    "    ju_x.diff(x),\n",
    "    ju_x.diff(y)\n",
    "    ],\n",
    "\n",
    "    [\n",
    "    ju_y.diff(x),\n",
    "    ju_y.diff(y)\n",
    "    ]\n",
    "])\n",
    "\n",
    "print(h)"
   ]
  },
  {
   "cell_type": "code",
   "execution_count": 98,
   "metadata": {},
   "outputs": [
    {
     "name": "stdout",
     "output_type": "stream",
     "text": [
      "[[1 1]\n",
      " [1 1]]\n"
     ]
    }
   ],
   "source": [
    "# symbols (x, y)\n",
    "x, y = symbols('x y')\n",
    "\n",
    "# f(x) = (x^2/2) + xy + (y^2/2)\n",
    "f = (x**2/2) + x*y + (y**2/2)\n",
    "\n",
    "# calculate jacobian row vector j\n",
    "ju_x = f.diff(x)\n",
    "ju_y = f.diff(y)\n",
    "\n",
    "# calculate hessian matrix h in respect to x, y\n",
    "h = np.array([\n",
    "    [\n",
    "    ju_x.diff(x),\n",
    "    ju_x.diff(y)\n",
    "    ],\n",
    "\n",
    "    [\n",
    "    ju_y.diff(x),\n",
    "    ju_y.diff(y)\n",
    "    ]\n",
    "])\n",
    "\n",
    "print(h)"
   ]
  },
  {
   "cell_type": "code",
   "execution_count": 99,
   "metadata": {},
   "outputs": [
    {
     "name": "stdout",
     "output_type": "stream",
     "text": [
      "[[2*exp(-y)*cos(z) -2*x*exp(-y)*cos(z) -2*x*exp(-y)*sin(z)]\n",
      " [-2*x*exp(-y)*cos(z) x**2*exp(-y)*cos(z) x**2*exp(-y)*sin(z)]\n",
      " [-2*x*exp(-y)*sin(z) x**2*exp(-y)*sin(z) -x**2*exp(-y)*cos(z)]]\n"
     ]
    }
   ],
   "source": [
    "# symbols (x, y, z)\n",
    "x, y, z = symbols('x y z')\n",
    "\n",
    "# f(x, y, z) = (x^2)(e^-y)cos(z)\n",
    "f = (x**2)*exp(-y)*cos(z)\n",
    "\n",
    "# calculate jacobian row vector j\n",
    "ju_x = f.diff(x)\n",
    "ju_y = f.diff(y)\n",
    "ju_z = f.diff(z)\n",
    "\n",
    "# calculate hessian matrix h in respect to x, y, z\n",
    "h = np.array([\n",
    "    [\n",
    "    ju_x.diff(x),\n",
    "    ju_x.diff(y),\n",
    "    ju_x.diff(z)\n",
    "    ],\n",
    "\n",
    "    [\n",
    "    ju_y.diff(x),\n",
    "    ju_y.diff(y),\n",
    "    ju_y.diff(z)\n",
    "    ],\n",
    "\n",
    "    [\n",
    "    ju_z.diff(x),\n",
    "    ju_z.diff(y),\n",
    "    ju_z.diff(z)\n",
    "    ]\n",
    "])\n",
    "\n",
    "print(h)"
   ]
  },
  {
   "cell_type": "code",
   "execution_count": 100,
   "metadata": {},
   "outputs": [
    {
     "name": "stdout",
     "output_type": "stream",
     "text": [
      "[[0 exp(y) 0]\n",
      " [exp(y) x*exp(y) + 2*cos(z) -2*y*sin(z)]\n",
      " [0 -2*y*sin(z) -y**2*cos(z)]]\n"
     ]
    }
   ],
   "source": [
    "# symbols (x, y, z)\n",
    "x, y, z = symbols('x y z')\n",
    "\n",
    "# f(x, y, z) = xe^y + (y^2)cos(z)\n",
    "f = x*exp(y) + (y**2)*cos(z)\n",
    "\n",
    "# calculate jacobian row vector j\n",
    "ju_x = f.diff(x)\n",
    "ju_y = f.diff(y)\n",
    "ju_z = f.diff(z)\n",
    "\n",
    "# calculate hessian matrix h in respect to x, y, z\n",
    "h = np.array([\n",
    "    [\n",
    "    ju_x.diff(x),\n",
    "    ju_x.diff(y),\n",
    "    ju_x.diff(z)\n",
    "    ],\n",
    "\n",
    "    [\n",
    "    ju_y.diff(x),\n",
    "    ju_y.diff(y),\n",
    "    ju_y.diff(z)\n",
    "    ],\n",
    "\n",
    "    [\n",
    "    ju_z.diff(x),\n",
    "    ju_z.diff(y),\n",
    "    ju_z.diff(z)\n",
    "    ]\n",
    "])\n",
    "\n",
    "print(h)"
   ]
  },
  {
   "cell_type": "code",
   "execution_count": null,
   "metadata": {},
   "outputs": [],
   "source": [
    "def jacobian_hessian_xyz(fx): # fx is a function of x, y, z\n",
    "    # symbols (x, y, z)\n",
    "    x, y, z = symbols('x y z')\n",
    "    # f(x, y, z) = fx\n",
    "    f = fx\n",
    "    # calculate jacobian row vector j\n",
    "    ju_x = f.diff(x)\n",
    "    ju_y = f.diff(y)\n",
    "    ju_z = f.diff(z)\n",
    "\n",
    "    # jaobian matrix j\n",
    "    j = [ju_x, ju_y, ju_z]\n",
    "\n",
    "    # calculate hessian matrix h in respect to x, y, z\n",
    "    h = np.array([\n",
    "        [\n",
    "        ju_x.diff(x),\n",
    "        ju_x.diff(y),\n",
    "        ju_x.diff(z)\n",
    "        ],\n",
    "\n",
    "        [\n",
    "        ju_y.diff(x),\n",
    "        ju_y.diff(y),\n",
    "        ju_y.diff(z)\n",
    "        ],\n",
    "\n",
    "        [\n",
    "        ju_z.diff(x),\n",
    "        ju_z.diff(y),\n",
    "        ju_z.diff(z)\n",
    "        ]\n",
    "    ])\n",
    "    return j, h\n",
    "\n",
    "def jacobian_hessian_xy(fx): # fx is a function of x, y\n",
    "    # symbols (x, y)\n",
    "    x, y = symbols('x y')\n",
    "    # f(x, y) = fx\n",
    "    f = fx\n",
    "    # calculate jacobian row vector j\n",
    "    ju_x = f.diff(x)\n",
    "    ju_y = f.diff(y)\n",
    "\n",
    "    # jaobian matrix j\n",
    "    j = [ju_x, ju_y]\n",
    "\n",
    "    # calculate hessian matrix h in respect to x, y\n",
    "    h = np.array([\n",
    "        [\n",
    "        ju_x.diff(x),\n",
    "        ju_x.diff(y)\n",
    "        ],\n",
    "\n",
    "        [\n",
    "        ju_y.diff(x),\n",
    "        ju_y.diff(y)\n",
    "        ]\n",
    "    ])\n",
    "    return j, h\n"
   ]
  },
  {
   "cell_type": "markdown",
   "metadata": {},
   "source": [
    "---\n",
    "## QUIZ"
   ]
  },
  {
   "cell_type": "code",
   "execution_count": 101,
   "metadata": {},
   "outputs": [
    {
     "name": "stdout",
     "output_type": "stream",
     "text": [
      "[[-2*pi - E 0 0]]\n"
     ]
    }
   ],
   "source": [
    "# symbols (x, y, z)\n",
    "x, y, z = symbols('x y z')\n",
    "# f(x, y, z) = x^2cos(y) + e^zsin(x)\n",
    "f = (x**2)*cos(y) + exp(z)*sin(x)\n",
    "\n",
    "# calculate jacobian row vector j\n",
    "ju_x = f.diff(x)\n",
    "ju_y = f.diff(y)\n",
    "ju_z = f.diff(z)\n",
    "\n",
    "# substitute x = pi, y = pi, z = 1\n",
    "j = np.array([\n",
    "    [\n",
    "    ju_x.subs({x: pi, y: pi, z: 1}),\n",
    "    ju_y.subs({x: pi, y: pi, z: 1}),\n",
    "    ju_z.subs({x: pi, y: pi, z: 1})\n",
    "    ]\n",
    "])\n",
    "print(j)"
   ]
  },
  {
   "cell_type": "code",
   "execution_count": 102,
   "metadata": {},
   "outputs": [
    {
     "name": "stdout",
     "output_type": "stream",
     "text": [
      "[[0 1]\n",
      " [exp(pi) exp(pi)]]\n"
     ]
    }
   ],
   "source": [
    "# symbols (x, y)\n",
    "x, y= symbols('x y')\n",
    "# u(x, y) = (x^2)y - cos(x)sin(y)\n",
    "u = (x**2)*y - cos(x)*sin(y)\n",
    "# v(x, y) = e^(x+y)\n",
    "v = exp(x+y)\n",
    "\n",
    "# calculate jacobian row vector j\n",
    "ju_x = u.diff(x)\n",
    "ju_y = u.diff(y)\n",
    "jv_x = v.diff(x)\n",
    "jv_y = v.diff(y)\n",
    "\n",
    "# substitute x = 0, y = pi\n",
    "j = np.array([\n",
    "    [\n",
    "    ju_x.subs({x: 0, y: pi}),\n",
    "    ju_y.subs({x: 0, y: pi})\n",
    "    ],\n",
    "\n",
    "    [\n",
    "    jv_x.subs({x: 0, y: pi}),\n",
    "    jv_y.subs({x: 0, y: pi})\n",
    "    ]\n",
    "])\n",
    "print(j)"
   ]
  },
  {
   "cell_type": "code",
   "execution_count": 104,
   "metadata": {},
   "outputs": [
    {
     "name": "stdout",
     "output_type": "stream",
     "text": [
      "[[6*x*cos(y) -3*x**2*sin(y) - cos(y)]\n",
      " [-3*x**2*sin(y) - cos(y) -x**3*cos(y) + x*sin(y)]]\n"
     ]
    }
   ],
   "source": [
    "# symbols (x, y)\n",
    "x, y= symbols('x y')\n",
    "# f(x, y) = (x^3)cos(y) + xsin(y)\n",
    "f = (x**3)*cos(y) - x*sin(y)\n",
    "\n",
    "# calculate jacobian row vector j\n",
    "ju_x = f.diff(x)\n",
    "ju_y = f.diff(y)\n",
    "\n",
    "# calculate hessian matrix h in respect to x, y\n",
    "h = np.array([\n",
    "    [\n",
    "    ju_x.diff(x),\n",
    "    ju_x.diff(y)\n",
    "    ],\n",
    "\n",
    "    [\n",
    "    ju_y.diff(x),\n",
    "    ju_y.diff(y)\n",
    "    ]\n",
    "])\n",
    "\n",
    "print(h)"
   ]
  },
  {
   "cell_type": "code",
   "execution_count": 105,
   "metadata": {},
   "outputs": [
    {
     "name": "stdout",
     "output_type": "stream",
     "text": [
      "[[z**3*exp(x) 1 3*z**2*exp(x)]\n",
      " [1 -sin(y)*sin(z) cos(y)*cos(z)]\n",
      " [3*z**2*exp(x) cos(y)*cos(z) 6*z*exp(x) - sin(y)*sin(z)]]\n"
     ]
    }
   ],
   "source": [
    "# symbols (x, y, z)\n",
    "x, y, z = symbols('x y z')\n",
    "# f(x, y, z) = xy+sin(y)sin(z) + (z^3)e^x\n",
    "f = x*y + sin(y)*sin(z) + (z**3)*exp(x)\n",
    "\n",
    "# calculate jacobian row vector j\n",
    "ju_x = f.diff(x)\n",
    "ju_y = f.diff(y)\n",
    "ju_z = f.diff(z)\n",
    "\n",
    "# calculate hessian matrix h in respect to x, y, z\n",
    "h = np.array([\n",
    "    [\n",
    "    ju_x.diff(x),\n",
    "    ju_x.diff(y),\n",
    "    ju_x.diff(z)\n",
    "    ],\n",
    "\n",
    "    [\n",
    "    ju_y.diff(x),\n",
    "    ju_y.diff(y),\n",
    "    ju_y.diff(z)\n",
    "    ],\n",
    "\n",
    "    [\n",
    "    ju_z.diff(x),\n",
    "    ju_z.diff(y),\n",
    "    ju_z.diff(z)\n",
    "    ]\n",
    "])\n",
    "\n",
    "print(h)"
   ]
  },
  {
   "cell_type": "code",
   "execution_count": 110,
   "metadata": {},
   "outputs": [
    {
     "name": "stdout",
     "output_type": "stream",
     "text": [
      "[[0 0 0]\n",
      " [0 0 0]\n",
      " [0 0 0]]\n"
     ]
    }
   ],
   "source": [
    "# symbols (x, y, z)\n",
    "x, y, z = symbols('x y z')\n",
    "# f(x,y,z) = xycos(z) - sin(x)(e^y)(z^3)\n",
    "f = x*y*cos(z) - sin(x)*exp(y)*(z**3)\n",
    "\n",
    "# calculate jacobian row vector j\n",
    "ju_x = f.diff(x)\n",
    "ju_y = f.diff(y)\n",
    "ju_z = f.diff(z)\n",
    "\n",
    "# calculate hessian matrix h in respect to x, y, z\n",
    "h = np.array([\n",
    "    [\n",
    "    ju_x.diff(x),\n",
    "    ju_x.diff(y),\n",
    "    ju_x.diff(z)\n",
    "    ],\n",
    "\n",
    "    [\n",
    "    ju_y.diff(x),\n",
    "    ju_y.diff(y),\n",
    "    ju_y.diff(z)\n",
    "    ],\n",
    "\n",
    "    [\n",
    "    ju_z.diff(x),\n",
    "    ju_z.diff(y),\n",
    "    ju_z.diff(z)\n",
    "    ]\n",
    "])\n",
    "\n",
    "print(h)"
   ]
  },
  {
   "cell_type": "code",
   "execution_count": null,
   "metadata": {},
   "outputs": [],
   "source": []
  }
 ],
 "metadata": {
  "interpreter": {
   "hash": "153cfa34b2fd7817ab0a10fa400c7428ae4a59674a5d86ff9506fd9606302b0e"
  },
  "kernelspec": {
   "display_name": "Python 3.8.12 ('DH-env')",
   "language": "python",
   "name": "python3"
  },
  "language_info": {
   "codemirror_mode": {
    "name": "ipython",
    "version": 3
   },
   "file_extension": ".py",
   "mimetype": "text/x-python",
   "name": "python",
   "nbconvert_exporter": "python",
   "pygments_lexer": "ipython3",
   "version": "3.8.12"
  },
  "orig_nbformat": 4
 },
 "nbformat": 4,
 "nbformat_minor": 2
}
