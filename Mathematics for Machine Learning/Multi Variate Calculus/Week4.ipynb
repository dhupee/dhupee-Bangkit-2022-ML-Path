{
 "cells": [
  {
   "cell_type": "code",
   "execution_count": 1,
   "metadata": {},
   "outputs": [],
   "source": [
    "import numpy as np\n",
    "from sympy import *\n",
    "init_printing( use_latex='mathjax' )\n",
    "import matplotlib.pyplot as plt"
   ]
  },
  {
   "cell_type": "code",
   "execution_count": 2,
   "metadata": {},
   "outputs": [
    {
     "data": {
      "text/latex": [
       "$\\displaystyle \\frac{x^{6}}{6} + \\frac{x^{4}}{2} + x^{2} + 1$"
      ],
      "text/plain": [
       " 6    4         \n",
       "x    x     2    \n",
       "── + ── + x  + 1\n",
       "6    2          "
      ]
     },
     "execution_count": 2,
     "metadata": {},
     "output_type": "execute_result"
    }
   ],
   "source": [
    "# symbols x\n",
    "x = symbols('x')\n",
    "\n",
    "# f(x) = e^(x^2)\n",
    "f = exp(x**2)\n",
    "\n",
    "# taylor series approximation of f(x)\n",
    "taylor_approx = f.series(x, 0, 7).removeO()\n",
    "taylor_approx"
   ]
  },
  {
   "cell_type": "code",
   "execution_count": 3,
   "metadata": {},
   "outputs": [
    {
     "data": {
      "text/latex": [
       "$\\displaystyle - \\frac{x}{16} + \\frac{\\left(x - 4\\right)^{6}}{16384} - \\frac{\\left(x - 4\\right)^{5}}{4096} + \\frac{\\left(x - 4\\right)^{4}}{1024} - \\frac{\\left(x - 4\\right)^{3}}{256} + \\frac{\\left(x - 4\\right)^{2}}{64} + \\frac{1}{2}$"
      ],
      "text/plain": [
       "              6          5          4          3          2    \n",
       "  x    (x - 4)    (x - 4)    (x - 4)    (x - 4)    (x - 4)    1\n",
       "- ── + ──────── - ──────── + ──────── - ──────── + ──────── + ─\n",
       "  16    16384       4096       1024       256         64      2"
      ]
     },
     "execution_count": 3,
     "metadata": {},
     "output_type": "execute_result"
    }
   ],
   "source": [
    "# symbols x\n",
    "x = symbols('x')\n",
    "\n",
    "# f(x) = 1/x\n",
    "f = 1/x\n",
    "\n",
    "# taylor series approximation of f(x), expanded around the point x = 4\n",
    "taylor_approx = f.series(x, 4, 7).removeO()\n",
    "taylor_approx"
   ]
  },
  {
   "cell_type": "code",
   "execution_count": 4,
   "metadata": {},
   "outputs": [
    {
     "data": {
      "text/latex": [
       "$\\displaystyle - \\frac{5 x^{4}}{16384} - \\frac{x^{3}}{512} - \\frac{x^{2}}{64} - \\frac{x}{4} + 2$"
      ],
      "text/plain": [
       "      4     3    2        \n",
       "   5⋅x     x    x    x    \n",
       "- ───── - ─── - ── - ─ + 2\n",
       "  16384   512   64   4    "
      ]
     },
     "execution_count": 4,
     "metadata": {},
     "output_type": "execute_result"
    }
   ],
   "source": [
    "# symbols x\n",
    "x = symbols('x')\n",
    "\n",
    "# f(x) = sqrt(4-x)\n",
    "f = sqrt(4-x)\n",
    "\n",
    "# taylor series approximation of f(x), expanded around the point x = 0\n",
    "taylor_approx = f.series(x, 0, 5).removeO()\n",
    "taylor_approx"
   ]
  },
  {
   "cell_type": "code",
   "execution_count": 5,
   "metadata": {},
   "outputs": [
    {
     "data": {
      "text/latex": [
       "$\\displaystyle - \\frac{x^{6}}{720} + \\frac{x^{4}}{24} - \\frac{x^{2}}{2} + 1$"
      ],
      "text/plain": [
       "    6    4    2    \n",
       "   x    x    x     \n",
       "- ─── + ── - ── + 1\n",
       "  720   24   2     "
      ]
     },
     "execution_count": 5,
     "metadata": {},
     "output_type": "execute_result"
    }
   ],
   "source": [
    "# symbols x\n",
    "x = symbols('x')\n",
    "\n",
    "# f(x) = cos(x)\n",
    "f = cos(x)\n",
    "\n",
    "# taylor series approximation of f(x), expanded around the point x = 0\n",
    "taylor_approx = f.series(x, 0, 7).removeO()\n",
    "taylor_approx"
   ]
  },
  {
   "cell_type": "code",
   "execution_count": 6,
   "metadata": {},
   "outputs": [
    {
     "data": {
      "text/latex": [
       "$\\displaystyle - \\frac{2 x^{5}}{945} - \\frac{x^{3}}{45} - \\frac{x}{3} + \\frac{1}{x}$"
      ],
      "text/plain": [
       "     5    3        \n",
       "  2⋅x    x    x   1\n",
       "- ──── - ── - ─ + ─\n",
       "  945    45   3   x"
      ]
     },
     "execution_count": 6,
     "metadata": {},
     "output_type": "execute_result"
    }
   ],
   "source": [
    "# symbols x\n",
    "x = symbols('x')\n",
    "\n",
    "# f(x) = (tan^-1)(x)\n",
    "f = tan(x)**-1\n",
    "\n",
    "# taylor series approximation of f(x), expanded around the point x = 0\n",
    "taylor_approx = f.series(x, 0, 7).removeO()\n",
    "taylor_approx"
   ]
  },
  {
   "cell_type": "code",
   "execution_count": 7,
   "metadata": {},
   "outputs": [
    {
     "data": {
      "text/latex": [
       "$\\displaystyle - \\frac{3 x}{2} + \\frac{127 \\left(x - 2\\right)^{6}}{64} - \\frac{63 \\left(x - 2\\right)^{5}}{32} + \\frac{31 \\left(x - 2\\right)^{4}}{16} - \\frac{15 \\left(x - 2\\right)^{3}}{8} + \\frac{7 \\left(x - 2\\right)^{2}}{4} + 4$"
      ],
      "text/plain": [
       "                   6             5             4             3            2   \n",
       "  3⋅x   127⋅(x - 2)    63⋅(x - 2)    31⋅(x - 2)    15⋅(x - 2)    7⋅(x - 2)    \n",
       "- ─── + ──────────── - ─────────── + ─────────── - ─────────── + ────────── + \n",
       "   2         64             32            16            8            4        \n",
       "\n",
       " \n",
       " \n",
       "4\n",
       " "
      ]
     },
     "execution_count": 7,
     "metadata": {},
     "output_type": "execute_result"
    }
   ],
   "source": [
    "# symbols x\n",
    "x = symbols('x')\n",
    "\n",
    "# f(x) = 2/(x^2 - x)\n",
    "f = 2/((x**2) - x)\n",
    "\n",
    "# taylor series approximation of f(x), expanded around the point x = 0\n",
    "taylor_approx = f.series(x, 2, 7).removeO()\n",
    "taylor_approx"
   ]
  },
  {
   "cell_type": "code",
   "execution_count": 8,
   "metadata": {},
   "outputs": [
    {
     "data": {
      "text/latex": [
       "$\\displaystyle \\frac{1}{2} + \\frac{\\left(x - 4\\right)^{2}}{64} - \\frac{\\left(x - 4\\right)^{3}}{256} + \\frac{\\left(x - 4\\right)^{4}}{1024} - \\frac{\\left(x - 4\\right)^{5}}{4096} + \\frac{\\left(x - 4\\right)^{6}}{16384} - \\frac{x}{16} + O\\left(\\left(x - 4\\right)^{7}; x\\rightarrow 4\\right)$"
      ],
      "text/plain": [
       "           2          3          4          5          6                      \n",
       "1   (x - 4)    (x - 4)    (x - 4)    (x - 4)    (x - 4)    x     ⎛       7    \n",
       "─ + ──────── - ──────── + ──────── - ──────── + ──────── - ── + O⎝(x - 4) ; x \n",
       "2      64        256        1024       4096      16384     16                 \n",
       "\n",
       "    \n",
       "   ⎞\n",
       "→ 4⎠\n",
       "    "
      ]
     },
     "execution_count": 8,
     "metadata": {},
     "output_type": "execute_result"
    }
   ],
   "source": [
    "# symbols x\n",
    "x = symbols('x')\n",
    "\n",
    "# f(x) = 1/x\n",
    "f = 1/x\n",
    "\n",
    "# taylor series approximation of f(x), expanded around the point x = 4\n",
    "taylor_approx = f.series(x, 4, 7)\n",
    "taylor_approx"
   ]
  },
  {
   "cell_type": "code",
   "execution_count": 48,
   "metadata": {},
   "outputs": [
    {
     "name": "stdout",
     "output_type": "stream",
     "text": [
      "x**6/6 - 3*x**4 - 2*x**3/3 + 27*x**2/2 + 18*x - 30 \n",
      " x**5 - 12*x**3 - 2*x**2 + 27*x + 18\n"
     ]
    }
   ],
   "source": [
    "# symbols x\n",
    "x = symbols('x')\n",
    "\n",
    "# f(x) = x^6/6 - 3x^4 - 2x^3/3 + 27x^2/2 + 18x - 30\n",
    "f = (x**6)/6 - 3*(x**4) - 2*(x**3)/3 + 27*(x**2)/2 + 18*x - 30\n",
    "\n",
    "# differentiating f(x)\n",
    "f_diff = f.diff(x)\n",
    "\n",
    "print(f, '\\n', f_diff)"
   ]
  },
  {
   "cell_type": "code",
   "execution_count": 53,
   "metadata": {},
   "outputs": [
    {
     "name": "stdout",
     "output_type": "stream",
     "text": [
      "x0 = -3.8113 || f(x0) = 71.3333\n",
      "x1 = -3.7631 || f(x1) = 12.2316\n",
      "x2 = -3.7602 || f(x2) = 0.6516\n",
      "x3 = -3.7602 || f(x3) = 0.0022\n",
      "x4 = -3.7602 || f(x4) = 0.0000\n"
     ]
    }
   ],
   "source": [
    "# find interations of newton-raphson method\n",
    "x0 = -4\n",
    "iteration = 4\n",
    "for i in range(iteration):\n",
    "    f_sub = f.subs(x, x0) # substitute x0 in f(x)\n",
    "    f_diff_sub = f_diff.subs(x, x0) # substitute x0 in f'(x)\n",
    "    x1 = x0 - (f_sub/f_diff_sub) # newton-raphson method\n",
    "    x1_dec = x1.evalf() # convert to decimal\n",
    "    f_sub_dec = f_sub.evalf() # convert to decimal\n",
    "    # print x1, and the f_sub\n",
    "    print('x{} = {:.4f} || f(x{}) = {:.4f}'.format(i, x1_dec, i, f_sub_dec))\n",
    "    x0 = x1 # update x0"
   ]
  },
  {
   "cell_type": "code",
   "execution_count": 54,
   "metadata": {},
   "outputs": [
    {
     "data": {
      "text/latex": [
       "$\\displaystyle 2 x y$"
      ],
      "text/plain": [
       "2⋅x⋅y"
      ]
     },
     "execution_count": 54,
     "metadata": {},
     "output_type": "execute_result"
    }
   ],
   "source": [
    "# symbols (x, y)\n",
    "x, y = symbols('x y')\n",
    "\n",
    "# f(x, y) = (x^2)y\n",
    "f = (x**2)*y\n",
    "\n",
    "dfdx = f.diff(x) # differentiate f(x, y) with respect to x\n",
    "dfdx"
   ]
  },
  {
   "cell_type": "code",
   "execution_count": null,
   "metadata": {},
   "outputs": [],
   "source": []
  }
 ],
 "metadata": {
  "interpreter": {
   "hash": "153cfa34b2fd7817ab0a10fa400c7428ae4a59674a5d86ff9506fd9606302b0e"
  },
  "kernelspec": {
   "display_name": "Python 3.8.12 ('DH-env')",
   "language": "python",
   "name": "python3"
  },
  "language_info": {
   "codemirror_mode": {
    "name": "ipython",
    "version": 3
   },
   "file_extension": ".py",
   "mimetype": "text/x-python",
   "name": "python",
   "nbconvert_exporter": "python",
   "pygments_lexer": "ipython3",
   "version": "3.8.12"
  },
  "orig_nbformat": 4
 },
 "nbformat": 4,
 "nbformat_minor": 2
}
