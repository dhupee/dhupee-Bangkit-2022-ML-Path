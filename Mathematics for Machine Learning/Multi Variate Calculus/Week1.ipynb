{
 "cells": [
  {
   "cell_type": "code",
   "execution_count": 2,
   "metadata": {},
   "outputs": [],
   "source": [
    "import numpy as np\n",
    "from sympy import *"
   ]
  },
  {
   "cell_type": "code",
   "execution_count": 4,
   "metadata": {},
   "outputs": [
    {
     "name": "stdout",
     "output_type": "stream",
     "text": [
      "2*x + 2\n"
     ]
    }
   ],
   "source": [
    "# example\n",
    "\n",
    "# f(x) = x^2 + 2x + 1\n",
    "x = symbols('x')\n",
    "f = x**2 + 2*x + 1\n",
    "\n",
    "# derivative of f(x)\n",
    "df = diff(f, x)\n",
    "print(df)"
   ]
  },
  {
   "cell_type": "markdown",
   "metadata": {},
   "source": [
    "---\n",
    "### Let's differentiate some functions"
   ]
  },
  {
   "cell_type": "code",
   "execution_count": 12,
   "metadata": {},
   "outputs": [
    {
     "data": {
      "text/latex": [
       "$\\displaystyle 173 x^{172}$"
      ],
      "text/plain": [
       "173*x**172"
      ]
     },
     "execution_count": 12,
     "metadata": {},
     "output_type": "execute_result"
    }
   ],
   "source": [
    "# f(x) = x^173\n",
    "f = x**173\n",
    "\n",
    "# differentiate f(x)\n",
    "df = diff(f, x)\n",
    "df"
   ]
  },
  {
   "cell_type": "code",
   "execution_count": 10,
   "metadata": {},
   "outputs": [
    {
     "data": {
      "text/latex": [
       "$\\displaystyle 2 x - \\frac{1}{x^{2}}$"
      ],
      "text/plain": [
       "2*x - 1/x**2"
      ]
     },
     "execution_count": 10,
     "metadata": {},
     "output_type": "execute_result"
    }
   ],
   "source": [
    "# f(x) = x^2 + 7 + 1/x\n",
    "f = x**2 + 7 + 1/x\n",
    "\n",
    "# differentiate f(x)\n",
    "df = diff(f, x)\n",
    "df"
   ]
  },
  {
   "cell_type": "code",
   "execution_count": 16,
   "metadata": {},
   "outputs": [
    {
     "data": {
      "text/latex": [
       "$\\displaystyle 6 x + e^{x} - 2 \\sin{\\left(x \\right)}$"
      ],
      "text/plain": [
       "6*x + exp(x) - 2*sin(x)"
      ]
     },
     "execution_count": 16,
     "metadata": {},
     "output_type": "execute_result"
    }
   ],
   "source": [
    "# f(x) = e^x +2sin(x) + x^3\n",
    "f = exp(x) + 2*sin(x) + x**3\n",
    "\n",
    "# find f2(x)\n",
    "f2 = diff(f, x, 2)\n",
    "f2"
   ]
  },
  {
   "cell_type": "code",
   "execution_count": 17,
   "metadata": {},
   "outputs": [
    {
     "data": {
      "text/latex": [
       "$\\displaystyle \\frac{x^{5}}{5} - 3 e^{x} + \\cos{\\left(x \\right)}$"
      ],
      "text/plain": [
       "x**5/5 - 3*exp(x) + cos(x)"
      ]
     },
     "execution_count": 17,
     "metadata": {},
     "output_type": "execute_result"
    }
   ],
   "source": [
    "# f1(x) = x^4 - sin(x) -3e^x\n",
    "f1 = x**4 - sin(x) - 3*exp(x)\n",
    "\n",
    "# integrate f1(x)\n",
    "intf1 = integrate(f1, x)\n",
    "intf1"
   ]
  },
  {
   "cell_type": "code",
   "execution_count": 13,
   "metadata": {},
   "outputs": [
    {
     "data": {
      "text/latex": [
       "$\\displaystyle \\frac{1}{2 \\sqrt{x}}$"
      ],
      "text/plain": [
       "1/(2*sqrt(x))"
      ]
     },
     "execution_count": 13,
     "metadata": {},
     "output_type": "execute_result"
    }
   ],
   "source": [
    "# solve d/dx (sqrt(x))\n",
    "df = diff(sqrt(x), x)\n",
    "df"
   ]
  },
  {
   "cell_type": "markdown",
   "metadata": {},
   "source": [
    "---"
   ]
  },
  {
   "cell_type": "code",
   "execution_count": 26,
   "metadata": {},
   "outputs": [
    {
     "data": {
      "text/latex": [
       "$\\displaystyle 6 x + 3$"
      ],
      "text/plain": [
       "6*x + 3"
      ]
     },
     "execution_count": 26,
     "metadata": {},
     "output_type": "execute_result"
    }
   ],
   "source": [
    "# symbols\n",
    "x = symbols('x')\n",
    "\n",
    "ax = (x+2)*(3*x - 3)\n",
    "\n",
    "# differentiate ax\n",
    "diff(ax, x)"
   ]
  },
  {
   "cell_type": "code",
   "execution_count": 29,
   "metadata": {},
   "outputs": [
    {
     "data": {
      "text/latex": [
       "$\\displaystyle x^{3} \\cos{\\left(x \\right)} + 3 x^{2} \\sin{\\left(x \\right)}$"
      ],
      "text/plain": [
       "x**3*cos(x) + 3*x**2*sin(x)"
      ]
     },
     "execution_count": 29,
     "metadata": {},
     "output_type": "execute_result"
    }
   ],
   "source": [
    "# symbols\n",
    "x = symbols('x')\n",
    "\n",
    "# f(x) = x^3sin(x)\n",
    "f = x**3*sin(x)\n",
    "\n",
    "# differentiate fx\n",
    "diff(f, x)"
   ]
  },
  {
   "cell_type": "code",
   "execution_count": 30,
   "metadata": {},
   "outputs": [
    {
     "data": {
      "text/latex": [
       "$\\displaystyle \\frac{e^{x}}{x} - \\frac{e^{x}}{x^{2}}$"
      ],
      "text/plain": [
       "exp(x)/x - exp(x)/x**2"
      ]
     },
     "execution_count": 30,
     "metadata": {},
     "output_type": "execute_result"
    }
   ],
   "source": [
    "# symbols\n",
    "x = symbols('x')\n",
    "\n",
    "# f(x) = e^x/x\n",
    "f = exp(x)/x\n",
    "\n",
    "# differentiate fx\n",
    "diff(f, x)"
   ]
  },
  {
   "cell_type": "code",
   "execution_count": 31,
   "metadata": {},
   "outputs": [
    {
     "data": {
      "text/latex": [
       "$\\displaystyle - x e^{3 x} \\sin{\\left(x \\right)} + 3 x e^{3 x} \\cos{\\left(x \\right)} + e^{3 x} \\cos{\\left(x \\right)}$"
      ],
      "text/plain": [
       "-x*exp(3*x)*sin(x) + 3*x*exp(3*x)*cos(x) + exp(3*x)*cos(x)"
      ]
     },
     "execution_count": 31,
     "metadata": {},
     "output_type": "execute_result"
    }
   ],
   "source": [
    "# symbols\n",
    "x = symbols('x')\n",
    "\n",
    "# f(x) = xe^3cos(x)\n",
    "f = x*exp(3*x)*cos(x)\n",
    "\n",
    "# differentiate fx\n",
    "diff(f, x)"
   ]
  },
  {
   "cell_type": "code",
   "execution_count": 32,
   "metadata": {},
   "outputs": [
    {
     "data": {
      "text/latex": [
       "$\\displaystyle 0$"
      ],
      "text/plain": [
       "0"
      ]
     },
     "execution_count": 32,
     "metadata": {},
     "output_type": "execute_result"
    }
   ],
   "source": [
    "# symbols\n",
    "u = symbols('u')\n",
    "f = symbols('f')\n",
    "g = symbols('g')\n",
    "h = symbols('h')\n",
    "\n",
    "# u(x) = f(x)g(x)h(x)\n",
    "u = f*g*h\n",
    "\n",
    "# differentiate ux\n",
    "diff(u, x)"
   ]
  },
  {
   "cell_type": "code",
   "execution_count": 33,
   "metadata": {},
   "outputs": [
    {
     "data": {
      "text/latex": [
       "$\\displaystyle 3 \\sin^{2}{\\left(x \\right)} \\cos{\\left(x \\right)}$"
      ],
      "text/plain": [
       "3*sin(x)**2*cos(x)"
      ]
     },
     "execution_count": 33,
     "metadata": {},
     "output_type": "execute_result"
    }
   ],
   "source": [
    "# symbols\n",
    "x = symbols('x')\n",
    "\n",
    "# f(x) = sin^3(x)\n",
    "f = sin(x)**3\n",
    "\n",
    "# diff\n",
    "diff(f, x)\n"
   ]
  },
  {
   "cell_type": "code",
   "execution_count": 36,
   "metadata": {},
   "outputs": [
    {
     "data": {
      "text/latex": [
       "$\\displaystyle 2 x e^{x^{2} - 3}$"
      ],
      "text/plain": [
       "2*x*exp(x**2 - 3)"
      ]
     },
     "execution_count": 36,
     "metadata": {},
     "output_type": "execute_result"
    }
   ],
   "source": [
    "# symbols\n",
    "x = symbols('x')\n",
    "\n",
    "# f(x) = e^(x^2)-3\n",
    "f = exp((x**2) - 3)\n",
    "\n",
    "# diff\n",
    "diff(f, x)"
   ]
  },
  {
   "cell_type": "code",
   "execution_count": 34,
   "metadata": {},
   "outputs": [
    {
     "data": {
      "text/latex": [
       "$\\displaystyle 2 x e^{\\sin{\\left(x^{2} \\right)}} \\cos{\\left(x^{2} \\right)}$"
      ],
      "text/plain": [
       "2*x*exp(sin(x**2))*cos(x**2)"
      ]
     },
     "execution_count": 34,
     "metadata": {},
     "output_type": "execute_result"
    }
   ],
   "source": [
    "# symbols\n",
    "x = symbols('x')\n",
    "\n",
    "# f(x) = e^sin(x^2)\n",
    "f = exp(sin(x**2))\n",
    "\n",
    "# diff\n",
    "diff(f, x)"
   ]
  },
  {
   "cell_type": "code",
   "execution_count": 37,
   "metadata": {},
   "outputs": [
    {
     "data": {
      "text/latex": [
       "$\\displaystyle \\frac{\\sin{\\left(x \\right)}}{\\cos^{2}{\\left(x \\right)}}$"
      ],
      "text/plain": [
       "sin(x)/cos(x)**2"
      ]
     },
     "execution_count": 37,
     "metadata": {},
     "output_type": "execute_result"
    }
   ],
   "source": [
    "# d/dx (1/cos(x))\n",
    "diff(1/cos(x), x)"
   ]
  },
  {
   "cell_type": "markdown",
   "metadata": {},
   "source": [
    "---\n",
    "\n",
    "## Week 1 Quiz"
   ]
  },
  {
   "cell_type": "code",
   "execution_count": 47,
   "metadata": {},
   "outputs": [
    {
     "data": {
      "text/latex": [
       "$\\displaystyle 1.5 x^{0.5} + 2 \\pi x$"
      ],
      "text/plain": [
       "1.5*x**0.5 + 2*pi*x"
      ]
     },
     "execution_count": 47,
     "metadata": {},
     "output_type": "execute_result"
    }
   ],
   "source": [
    "# symbols\n",
    "x = symbols('x')\n",
    "\n",
    "# f(x) = (x^3/2) + (pi*x^2) + (sqrt(7))\n",
    "f = (x**(3/2)) + (pi*(x**2)) + (sqrt(7))\n",
    "\n",
    "# diff\n",
    "f1 = diff(f, x)\n",
    "f1"
   ]
  },
  {
   "cell_type": "code",
   "execution_count": 48,
   "metadata": {},
   "outputs": [
    {
     "data": {
      "text/latex": [
       "$\\displaystyle - x^{3} e^{x} \\sin{\\left(x \\right)} + x^{3} e^{x} \\cos{\\left(x \\right)} + 3 x^{2} e^{x} \\cos{\\left(x \\right)}$"
      ],
      "text/plain": [
       "-x**3*exp(x)*sin(x) + x**3*exp(x)*cos(x) + 3*x**2*exp(x)*cos(x)"
      ]
     },
     "execution_count": 48,
     "metadata": {},
     "output_type": "execute_result"
    }
   ],
   "source": [
    "# symbols\n",
    "x = symbols('x')\n",
    "\n",
    "# f(x) = x^3*cos(x)*e^x\n",
    "f = x**3*cos(x)*exp(x)\n",
    "\n",
    "# diff\n",
    "f1 = diff(f, x)\n",
    "f1"
   ]
  },
  {
   "cell_type": "code",
   "execution_count": 49,
   "metadata": {},
   "outputs": [
    {
     "data": {
      "text/latex": [
       "$\\displaystyle \\left(2 x + 2\\right) e^{x^{2} + 2 x + 1}$"
      ],
      "text/plain": [
       "(2*x + 2)*exp(x**2 + 2*x + 1)"
      ]
     },
     "execution_count": 49,
     "metadata": {},
     "output_type": "execute_result"
    }
   ],
   "source": [
    "# symbols\n",
    "x = symbols('x')\n",
    "\n",
    "# f(x) = e^[(x+2)^2]\n",
    "f = exp(x**2 + 2*x + 1)\n",
    "\n",
    "# diff\n",
    "f1 = diff(f, x)\n",
    "f1"
   ]
  },
  {
   "cell_type": "code",
   "execution_count": 50,
   "metadata": {},
   "outputs": [
    {
     "data": {
      "text/latex": [
       "$\\displaystyle - 3 x^{4} \\sin{\\left(x^{3} \\right)} + 2 x \\cos{\\left(x^{3} \\right)}$"
      ],
      "text/plain": [
       "-3*x**4*sin(x**3) + 2*x*cos(x**3)"
      ]
     },
     "execution_count": 50,
     "metadata": {},
     "output_type": "execute_result"
    }
   ],
   "source": [
    "# symbols\n",
    "x = symbols('x')\n",
    "\n",
    "# f(x) = x^2cos(x^3)\n",
    "f = x**2*cos(x**3)\n",
    "\n",
    "# diff\n",
    "f1 = diff(f, x)\n",
    "f1"
   ]
  },
  {
   "cell_type": "code",
   "execution_count": 53,
   "metadata": {},
   "outputs": [
    {
     "data": {
      "text/latex": [
       "$\\displaystyle - \\frac{1}{e}$"
      ],
      "text/plain": [
       "-exp(-1)"
      ]
     },
     "execution_count": 53,
     "metadata": {},
     "output_type": "execute_result"
    }
   ],
   "source": [
    "# symbols\n",
    "x = symbols('x')\n",
    "\n",
    "# f(x) = sin(x) * e^cos(x)\n",
    "f = sin(x)*exp(cos(x))\n",
    "\n",
    "# diff\n",
    "f1 = diff(f, x)\n",
    "\n",
    "# f1 if x = pi\n",
    "f1.subs(x, pi)"
   ]
  },
  {
   "cell_type": "markdown",
   "metadata": {},
   "source": [
    "## UWWWWOOOOOGGGHHH"
   ]
  }
 ],
 "metadata": {
  "interpreter": {
   "hash": "153cfa34b2fd7817ab0a10fa400c7428ae4a59674a5d86ff9506fd9606302b0e"
  },
  "kernelspec": {
   "display_name": "Python 3.8.12 ('DH-env')",
   "language": "python",
   "name": "python3"
  },
  "language_info": {
   "codemirror_mode": {
    "name": "ipython",
    "version": 3
   },
   "file_extension": ".py",
   "mimetype": "text/x-python",
   "name": "python",
   "nbconvert_exporter": "python",
   "pygments_lexer": "ipython3",
   "version": "3.8.12"
  },
  "orig_nbformat": 4
 },
 "nbformat": 4,
 "nbformat_minor": 2
}
