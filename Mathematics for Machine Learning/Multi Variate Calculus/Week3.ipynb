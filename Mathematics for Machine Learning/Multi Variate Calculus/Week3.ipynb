{
 "cells": [
  {
   "cell_type": "code",
   "execution_count": 1,
   "metadata": {},
   "outputs": [],
   "source": [
    "import numpy as np\n",
    "from sympy import *"
   ]
  },
  {
   "cell_type": "code",
   "execution_count": 3,
   "metadata": {},
   "outputs": [
    {
     "name": "stdout",
     "output_type": "stream",
     "text": [
      "5 - 5*t**2\n",
      "-10*t\n"
     ]
    }
   ],
   "source": [
    "# symbols (x, y, z)\n",
    "u, t, x, y, z = symbols('u t x y z')\n",
    "\n",
    "# f(x) = 5x\n",
    "f_x = 5 * x\n",
    "# x(u) = 1- u\n",
    "x_u = 1 - u\n",
    "# u(t) = t^2\n",
    "u_t = t ** 2\n",
    "\n",
    "# calculate f(t)\n",
    "f_t = f_x.subs(x, x_u).subs(u, u_t)\n",
    "print(f_t)\n",
    "\n",
    "dfdt = diff(f_t, t)\n",
    "print(dfdt)"
   ]
  },
  {
   "cell_type": "code",
   "execution_count": 7,
   "metadata": {},
   "outputs": [
    {
     "name": "stdout",
     "output_type": "stream",
     "text": [
      "0\n"
     ]
    }
   ],
   "source": [
    "# symbols (t, x)\n",
    "t, x, y = symbols('t x y')\n",
    "\n",
    "# f(x, y) = (x^2)(y^2) + xy\n",
    "f_xy = (x ** 2) * (y ** 2) + x * y\n",
    "# x(t) = 1- t^2\n",
    "x_t = 1 - t ** 2\n",
    "# y(t) = 1 + t^2\n",
    "y_t = 1 + t ** 2\n",
    "\n",
    "# calculate dfdt(x, y)\n",
    "dfdt_xy = dfdt.subs(x, x_t).subs(y, y_t)\n",
    "print(dfdt_xy)"
   ]
  },
  {
   "cell_type": "code",
   "execution_count": 8,
   "metadata": {},
   "outputs": [
    {
     "name": "stdout",
     "output_type": "stream",
     "text": [
      "-sin(t/2)/2 \n",
      " 2*cos(2*t)\n"
     ]
    }
   ],
   "source": [
    "# differentiate cos(t/2), sin(2t)\n",
    "diff_cos = diff(cos(t / 2), t)\n",
    "diff_sin = diff(sin(2 * t), t)\n",
    "\n",
    "print(diff_cos, '\\n', diff_sin)\n"
   ]
  },
  {
   "cell_type": "code",
   "execution_count": 9,
   "metadata": {},
   "outputs": [
    {
     "name": "stdout",
     "output_type": "stream",
     "text": [
      "exp(t/2)/2 \n",
      " -2*exp(-2*t)\n"
     ]
    }
   ],
   "source": [
    "# differentiate e^(t/2), e^(-2t)\n",
    "diff_e_t_2 = diff(exp(t / 2), t)\n",
    "diff_e_2t = diff(exp(-2 * t), t)\n",
    "\n",
    "print(diff_e_t_2, '\\n', diff_e_2t)"
   ]
  },
  {
   "cell_type": "code",
   "execution_count": 10,
   "metadata": {},
   "outputs": [
    {
     "name": "stdout",
     "output_type": "stream",
     "text": [
      "1/2 \n",
      " -1/2\n"
     ]
    }
   ],
   "source": [
    "# differentiate 1+t/2, 1-t/2\n",
    "diff_1_t_p2 = diff(1 + t / 2, t)\n",
    "diff_1_t_m2 = diff(1 - t / 2, t)\n",
    "\n",
    "print(diff_1_t_p2, '\\n', diff_1_t_m2)"
   ]
  },
  {
   "cell_type": "code",
   "execution_count": null,
   "metadata": {},
   "outputs": [],
   "source": []
  }
 ],
 "metadata": {
  "interpreter": {
   "hash": "153cfa34b2fd7817ab0a10fa400c7428ae4a59674a5d86ff9506fd9606302b0e"
  },
  "kernelspec": {
   "display_name": "Python 3.8.12 ('DH-env')",
   "language": "python",
   "name": "python3"
  },
  "language_info": {
   "codemirror_mode": {
    "name": "ipython",
    "version": 3
   },
   "file_extension": ".py",
   "mimetype": "text/x-python",
   "name": "python",
   "nbconvert_exporter": "python",
   "pygments_lexer": "ipython3",
   "version": "3.8.12"
  },
  "orig_nbformat": 4
 },
 "nbformat": 4,
 "nbformat_minor": 2
}
